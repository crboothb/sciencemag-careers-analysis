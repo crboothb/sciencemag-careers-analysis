{
 "cells": [
  {
   "cell_type": "markdown",
   "metadata": {},
   "source": [
    "# Model Interpretation"
   ]
  },
  {
   "cell_type": "markdown",
   "metadata": {},
   "source": [
    "At this point we have selected the SVM as our preferred model to do the predictions. We will now study its behaviour by analyzing misclassified articles. Hopefully this will give us some insights on the way the model is working."
   ]
  },
  {
   "cell_type": "code",
   "execution_count": 1,
   "metadata": {},
   "outputs": [],
   "source": [
    "import pickle\n",
    "import pandas as pd\n",
    "import numpy as np\n",
    "import random"
   ]
  },
  {
   "cell_type": "markdown",
   "metadata": {},
   "source": [
    "Let's load what we need:"
   ]
  },
  {
   "cell_type": "code",
   "execution_count": 11,
   "metadata": {},
   "outputs": [
    {
     "name": "stdout",
     "output_type": "stream",
     "text": "done\n"
    }
   ],
   "source": [
    "# Dataframe\n",
    "path_df = \"pickles/df.pickle\"\n",
    "with open(path_df, 'rb') as data:\n",
    "    df = pickle.load(data)\n",
    "    \n",
    "# X_train\n",
    "path_X_train = \"pickles/X_train.pickle\"\n",
    "with open(path_X_train, 'rb') as data:\n",
    "    X_train = pickle.load(data)\n",
    "\n",
    "# X_test\n",
    "path_X_test = \"pickles/X_test.pickle\"\n",
    "with open(path_X_test, 'rb') as data:\n",
    "    X_test = pickle.load(data)\n",
    "\n",
    "# y_train\n",
    "path_y_train = \"pickles/y_train.pickle\"\n",
    "with open(path_y_train, 'rb') as data:\n",
    "    y_train = pickle.load(data)\n",
    "\n",
    "# y_test\n",
    "path_y_test = \"pickles/y_test.pickle\"\n",
    "with open(path_y_test, 'rb') as data:\n",
    "    y_test = pickle.load(data)\n",
    "\n",
    "# features_train\n",
    "path_features_train = \"pickles/features_train.pickle\"\n",
    "with open(path_features_train, 'rb') as data:\n",
    "    features_train = pickle.load(data)\n",
    "\n",
    "# labels_train\n",
    "path_labels_train = \"pickles/labels_train.pickle\"\n",
    "with open(path_labels_train, 'rb') as data:\n",
    "    labels_train = pickle.load(data)\n",
    "\n",
    "# features_test\n",
    "path_features_test = \"pickles/features_test.pickle\"\n",
    "with open(path_features_test, 'rb') as data:\n",
    "    features_test = pickle.load(data)\n",
    "\n",
    "# labels_test\n",
    "path_labels_test = \"pickles/labels_test.pickle\"\n",
    "with open(path_labels_test, 'rb') as data:\n",
    "    labels_test = pickle.load(data)\n",
    "    \n",
    "# SVM Model\n",
    "path_model = \"Models/best_knnc.pickle\"\n",
    "with open(path_model, 'rb') as data:\n",
    "    knn_model = pickle.load(data)\n",
    "    \n",
    "# Category mapping dictionary\n",
    "category_codes = {\n",
    "    'first': 1,\n",
    "    'second': 2,\n",
    "    'third': 3\n",
    "}\n",
    "\n",
    "category_names = {\n",
    "    1: 'first',\n",
    "    2: 'second',\n",
    "    3: 'third'\n",
    "}\n",
    "print(\"done\")"
   ]
  },
  {
   "cell_type": "markdown",
   "metadata": {},
   "source": [
    "Let's get the predictions on the test set:"
   ]
  },
  {
   "cell_type": "code",
   "execution_count": 6,
   "metadata": {},
   "outputs": [],
   "source": [
    "predictions = knn_model.predict(features_test)"
   ]
  },
  {
   "cell_type": "code",
   "execution_count": 12,
   "metadata": {},
   "outputs": [
    {
     "data": {
      "text/html": "<div>\n<style scoped>\n    .dataframe tbody tr th:only-of-type {\n        vertical-align: middle;\n    }\n\n    .dataframe tbody tr th {\n        vertical-align: top;\n    }\n\n    .dataframe thead th {\n        text-align: right;\n    }\n</style>\n<table border=\"1\" class=\"dataframe\">\n  <thead>\n    <tr style=\"text-align: right;\">\n      <th></th>\n      <th>id</th>\n      <th>Category_Code</th>\n      <th>headline</th>\n      <th>n_posts_author</th>\n      <th>date_seq</th>\n      <th>month_seq</th>\n      <th>year</th>\n      <th>column1</th>\n      <th>column2</th>\n      <th>Content</th>\n      <th>Content_Parsed</th>\n      <th>Category</th>\n    </tr>\n  </thead>\n  <tbody>\n    <tr>\n      <td>0</td>\n      <td>730</td>\n      <td>1</td>\n      <td>diary of a british scientist, part 2: brushing...</td>\n      <td>7</td>\n      <td>977</td>\n      <td>42</td>\n      <td>1999</td>\n      <td>no</td>\n      <td>yes</td>\n      <td>by           so after deciding that i wanted...</td>\n      <td>decide  i want  move   lab  science c...</td>\n      <td>first</td>\n    </tr>\n    <tr>\n      <td>1</td>\n      <td>4200</td>\n      <td>3</td>\n      <td>alyson reed takes the helm at npa</td>\n      <td>1</td>\n      <td>2545</td>\n      <td>93</td>\n      <td>2003</td>\n      <td>no</td>\n      <td>no</td>\n      <td>by     n 4 september, a new force joined the...</td>\n      <td>n 4 september  new force join  struggle   ...</td>\n      <td>third</td>\n    </tr>\n    <tr>\n      <td>2</td>\n      <td>4453</td>\n      <td>1</td>\n      <td>unveiling the blindness</td>\n      <td>1</td>\n      <td>2699</td>\n      <td>98</td>\n      <td>2004</td>\n      <td>no</td>\n      <td>no</td>\n      <td>by      n a daily basis, i strive to be the ...</td>\n      <td>n  daily basis i strive    laziest mexica...</td>\n      <td>first</td>\n    </tr>\n    <tr>\n      <td>3</td>\n      <td>286</td>\n      <td>2</td>\n      <td>talk yourself right into a job</td>\n      <td>247</td>\n      <td>7499</td>\n      <td>256</td>\n      <td>2017</td>\n      <td>no</td>\n      <td>yes</td>\n      <td>by  i’m sure you’ve heard the expression use...</td>\n      <td>i’ sure you’ hear  expression use  describ...</td>\n      <td>second</td>\n    </tr>\n    <tr>\n      <td>4</td>\n      <td>1034</td>\n      <td>3</td>\n      <td>loan-repayment for biomedical researchers</td>\n      <td>84</td>\n      <td>1901</td>\n      <td>72</td>\n      <td>2001</td>\n      <td>no</td>\n      <td>yes</td>\n      <td>by                            whatever happe...</td>\n      <td>whatever happen   fund proposal  cong...</td>\n      <td>third</td>\n    </tr>\n  </tbody>\n</table>\n</div>",
      "text/plain": "     id  Category_Code                                           headline  \\\n0   730              1  diary of a british scientist, part 2: brushing...   \n1  4200              3                  alyson reed takes the helm at npa   \n2  4453              1                            unveiling the blindness   \n3   286              2                     talk yourself right into a job   \n4  1034              3          loan-repayment for biomedical researchers   \n\n   n_posts_author  date_seq  month_seq  year column1 column2  \\\n0               7       977         42  1999      no     yes   \n1               1      2545         93  2003      no      no   \n2               1      2699         98  2004      no      no   \n3             247      7499        256  2017      no     yes   \n4              84      1901         72  2001      no     yes   \n\n                                             Content  \\\n0    by           so after deciding that i wanted...   \n1    by     n 4 september, a new force joined the...   \n2    by      n a daily basis, i strive to be the ...   \n3    by  i’m sure you’ve heard the expression use...   \n4    by                            whatever happe...   \n\n                                      Content_Parsed Category  \n0           decide  i want  move   lab  science c...    first  \n1      n 4 september  new force join  struggle   ...    third  \n2       n  daily basis i strive    laziest mexica...    first  \n3      i’ sure you’ hear  expression use  describ...   second  \n4           whatever happen   fund proposal  cong...    third  "
     },
     "execution_count": 12,
     "metadata": {},
     "output_type": "execute_result"
    }
   ],
   "source": [
    "df = df.rename(columns={'text':'Content'})\n",
    "\n",
    "df.head()"
   ]
  },
  {
   "cell_type": "markdown",
   "metadata": {},
   "source": [
    "Now we'll create the Test Set dataframe with the actual and predicted categories:"
   ]
  },
  {
   "cell_type": "code",
   "execution_count": 13,
   "metadata": {},
   "outputs": [],
   "source": [
    "# Indexes of the test set\n",
    "index_X_test = X_test.index\n",
    "\n",
    "# We get them from the original df\n",
    "df_test = df.loc[index_X_test]\n",
    "\n",
    "# Add the predictions\n",
    "df_test['Prediction'] = predictions\n",
    "\n",
    "# Clean columns\n",
    "df_test = df_test[['Content', 'Category', 'Category_Code', 'Prediction']]\n",
    "\n",
    "# Decode\n",
    "df_test['Category_Predicted'] = df_test['Prediction']\n",
    "df_test = df_test.replace({'Category_Predicted':category_names})\n",
    "\n",
    "# Clean columns again\n",
    "df_test = df_test[['Content', 'Category', 'Category_Predicted']]"
   ]
  },
  {
   "cell_type": "code",
   "execution_count": 14,
   "metadata": {},
   "outputs": [
    {
     "data": {
      "text/html": "<div>\n<style scoped>\n    .dataframe tbody tr th:only-of-type {\n        vertical-align: middle;\n    }\n\n    .dataframe tbody tr th {\n        vertical-align: top;\n    }\n\n    .dataframe thead th {\n        text-align: right;\n    }\n</style>\n<table border=\"1\" class=\"dataframe\">\n  <thead>\n    <tr style=\"text-align: right;\">\n      <th></th>\n      <th>Content</th>\n      <th>Category</th>\n      <th>Category_Predicted</th>\n    </tr>\n  </thead>\n  <tbody>\n    <tr>\n      <td>67</td>\n      <td>by       bout 3 years ago, i was sitting at ...</td>\n      <td>second</td>\n      <td>second</td>\n    </tr>\n    <tr>\n      <td>69</td>\n      <td>by  \\t\\t\\t\\t\\t\\t\\t  david price, 46, can't r...</td>\n      <td>first</td>\n      <td>first</td>\n    </tr>\n    <tr>\n      <td>192</td>\n      <td>by  making it in academia is hard for anyone...</td>\n      <td>third</td>\n      <td>third</td>\n    </tr>\n    <tr>\n      <td>160</td>\n      <td>by                            i am finishing...</td>\n      <td>second</td>\n      <td>third</td>\n    </tr>\n    <tr>\n      <td>65</td>\n      <td>by      his article concerns itself with own...</td>\n      <td>third</td>\n      <td>third</td>\n    </tr>\n  </tbody>\n</table>\n</div>",
      "text/plain": "                                               Content Category  \\\n67     by       bout 3 years ago, i was sitting at ...   second   \n69     by  \\t\\t\\t\\t\\t\\t\\t  david price, 46, can't r...    first   \n192    by  making it in academia is hard for anyone...    third   \n160    by                            i am finishing...   second   \n65     by      his article concerns itself with own...    third   \n\n    Category_Predicted  \n67              second  \n69               first  \n192              third  \n160              third  \n65               third  "
     },
     "execution_count": 14,
     "metadata": {},
     "output_type": "execute_result"
    }
   ],
   "source": [
    "df_test.head()"
   ]
  },
  {
   "cell_type": "markdown",
   "metadata": {},
   "source": [
    "Let's get the misclassified articles:"
   ]
  },
  {
   "cell_type": "code",
   "execution_count": 17,
   "metadata": {},
   "outputs": [
    {
     "name": "stdout",
     "output_type": "stream",
     "text": "4\n"
    },
    {
     "data": {
      "text/html": "<div>\n<style scoped>\n    .dataframe tbody tr th:only-of-type {\n        vertical-align: middle;\n    }\n\n    .dataframe tbody tr th {\n        vertical-align: top;\n    }\n\n    .dataframe thead th {\n        text-align: right;\n    }\n</style>\n<table border=\"1\" class=\"dataframe\">\n  <thead>\n    <tr style=\"text-align: right;\">\n      <th></th>\n      <th>Content</th>\n      <th>Category</th>\n      <th>Category_Predicted</th>\n    </tr>\n  </thead>\n  <tbody>\n    <tr>\n      <td>160</td>\n      <td>by                            i am finishing...</td>\n      <td>second</td>\n      <td>third</td>\n    </tr>\n    <tr>\n      <td>127</td>\n      <td>by  ,  atricia gosling and bart noordam are ...</td>\n      <td>third</td>\n      <td>second</td>\n    </tr>\n    <tr>\n      <td>141</td>\n      <td>by      ara is 2 years into her first postdo...</td>\n      <td>second</td>\n      <td>third</td>\n    </tr>\n    <tr>\n      <td>194</td>\n      <td>by      our new discovery has implications f...</td>\n      <td>second</td>\n      <td>third</td>\n    </tr>\n  </tbody>\n</table>\n</div>",
      "text/plain": "                                               Content Category  \\\n160    by                            i am finishing...   second   \n127    by  ,  atricia gosling and bart noordam are ...    third   \n141    by      ara is 2 years into her first postdo...   second   \n194    by      our new discovery has implications f...   second   \n\n    Category_Predicted  \n160              third  \n127             second  \n141              third  \n194              third  "
     },
     "execution_count": 17,
     "metadata": {},
     "output_type": "execute_result"
    }
   ],
   "source": [
    "condition = (df_test['Category'] != df_test['Category_Predicted'])\n",
    "\n",
    "df_misclassified = df_test[condition]\n",
    "\n",
    "print(len(df_misclassified))\n",
    "df_misclassified"
   ]
  },
  {
   "cell_type": "markdown",
   "metadata": {},
   "source": [
    "Let's get a sample of 3 articles. We'll define a function to make this process faster:"
   ]
  },
  {
   "cell_type": "code",
   "execution_count": 18,
   "metadata": {},
   "outputs": [],
   "source": [
    "def output_article(row_article):\n",
    "    print('Actual Category: %s' %(row_article['Category']))\n",
    "    print('Predicted Category: %s' %(row_article['Category_Predicted']))\n",
    "    print('-------------------------------------------')\n",
    "    print('Text: ')\n",
    "    print('%s' %(row_article['Content']))"
   ]
  },
  {
   "cell_type": "markdown",
   "metadata": {},
   "source": [
    "We'll get three random numbers from the indexes:"
   ]
  },
  {
   "cell_type": "code",
   "execution_count": 19,
   "metadata": {},
   "outputs": [
    {
     "data": {
      "text/plain": "[127, 194, 141]"
     },
     "execution_count": 19,
     "metadata": {},
     "output_type": "execute_result"
    }
   ],
   "source": [
    "random.seed(8)\n",
    "list_samples = random.sample(list(df_misclassified.index), 3)\n",
    "list_samples"
   ]
  },
  {
   "cell_type": "markdown",
   "metadata": {},
   "source": [
    "First case:"
   ]
  },
  {
   "cell_type": "code",
   "execution_count": 20,
   "metadata": {},
   "outputs": [
    {
     "name": "stdout",
     "output_type": "stream",
     "text": "Actual Category: third\nPredicted Category: second\n-------------------------------------------\nText: \n  by  ,  atricia gosling and bart noordam are the authors of   ( ). gosling is a senior medical writer at novartis vaccines and diagnostics in germany and freelance science writer. noordam is a professor of physics at the  , the netherlands, and director  development and engineering at  . he has also worked for mckinsey and co. 5 september 2008 research in industry differs from academic research in several important ways. 25 july 2008 the key to doing well in your thesis defense is extensive preparation. 27 june 2008 if you aren't having regular, structured conversations with your ph.d. adviser, poor communication is probably holding you back. 23 may 2008 problem-solving and communication skills are important for those who aspire to careers advising the captains of industry. 2 may 2008 the values and culture of the nonprofit setting make it an exciting and rewarding career choice for some scientists. 28 march 2008 leaving the lab may not be easy, but when you've decided to say goodbye to the bench, you can take comfort in knowing that opportunities await. 22 february 2008 here's how to approach the challenge of finding a job that suits you, inside or outside academia. 25 january 2008 some troublesome types who frequent laboratories require special handling. 21 december 2007 careful planning and outlining can make writing your thesis less daunting. 23 november 2007 to start writing your thesis, assess what you've done, plan the last experiments, and set aside time to write. 26 october 2007 for scientists in grad school, getting into good habits early is key to starting a new term off right. 28 september 2007 here are some tips and tricks for coming away from a progress review with the answers you need and a realistic action plan. 31 august 2007 finding a mentor is an important step in your scientific career, but what qualities do you look for and whom should you ask? 20 july 2007 acknowledging that other people think and operate differently than you do--and learning how to relate to them effectively--will make your lab life more productive. 29 june 2007 take advantage of the experience and creativity of others by asking them to try on the \"six thinking hats,\" an experiment in parallel thinking. 25 may 2007 unlike sports, science doesn't have a tradition of celebrating success. but the occasional party can provide a needed breather, some time for reflection, and a morale boost for the lab. 13 april 2007 part of being a good scientist is being able to write up your results in clear and simple terms. 23 march 2007 here's how to make the most of your first scientific sojourn. 16 february 2007 stuff happens in science, sometimes it's bad stuff, and you can't just reset and start over. here's how to pick yourself up, brush yourself off, and move on. 19 january 2007 from start-up group to empire, your ph.d. experience will depend in part on what type of research group you end up in. 15 december 2006 committing concrete goals to paper will help you avoid feeling overwhelmed by the tasks ahead and frustrated by your lack of progress. 10 november 2006 you're running as fast as you can. why aren't you getting anywhere? our newest columnists provide some traction. 20 october 2006 speaking in front of a group of people, our newest columnists write, doesn't have to be an unnerving experience. ( ). gosling is a senior medical writer at   in malaysia and a freelance science writer. bart noordam is a coauthor of  ( ). he is a professor of physics at the  , the netherlands, and director of a regional audit organization. he has also worked for mckinsey & co.\n"
    }
   ],
   "source": [
    "output_article(df_misclassified.loc[list_samples[0]])"
   ]
  },
  {
   "cell_type": "markdown",
   "metadata": {},
   "source": [
    "Second case:"
   ]
  },
  {
   "cell_type": "code",
   "execution_count": 21,
   "metadata": {},
   "outputs": [
    {
     "name": "stdout",
     "output_type": "stream",
     "text": "Actual Category: second\nPredicted Category: third\n-------------------------------------------\nText: \n  by      our new discovery has implications for breast cancer therapy. who funds you, the national cancer institute (nci)? nope: the u.s. army. you've just developed a swift-growing tree that drinks up metals in the soil as if they were lemonade in july, and it could be the next killer app for cleaning up superfund sites. who cut the r&d checks, the environmental protection agency (epa)? uh-uh: the u.s. air force. a new airborne chemical sensor: epa? the department of energy? homeland security? no: it owes its existence to the small business administration (sba).  why be normal? securing funding is difficult, time-consuming, and unpredictable, especially in an election year. who knows how next year's president's policies will impact the budgets of the national institutes of health (nih), the national science foundation (nsf), and other stalwarts of scientific funding? the outlook right now isn't good. when a well dries up, it's time to drill a new one. it behooves anyone to look for money wherever it can be found.  by all means, go to the obvious sources. if you're a medical researcher, hit up nih. if you're an engineer, knock on doe's door or nsf's. but when you've exhausted your primary sources, consider this: pots of gold are available throughout the federal government and the private sector, often where you'd least expect to find them. for example, the u.s. army--through its congressionally directed medical research programs--trails only nci as the leading funder of breast cancer research in the u.s. government. who knew?       so how do you go about finding these hidden sources? start with networking. see all those related research articles piling up on your desk? check the acknowledgment section to see who is funding those projects, says janet rasey, director of research funding services at the university of washington.  then it's time to get out of the office. your institution's office of sponsored programs (osp) is an excellent place to start, says jerry boss, professor of microbiology and immunology at the emory university school of medicine in atlanta, georgia, and a regular contributor to next wave. they may have a list of funding sources other researchers at your institution have used; colleagues whose work resembles yours might clue you into potential sources you hadn't thought of. osp should also have a list of private foundations that support scientific research; if your research has even a tenuous connection to a foundation's interests, add the foundation to your list.  then, put the osp to work for you. osps exist to help you secure funding, so use them. make an appointment and see what services they're able to offer. \"it always works out better if you aren't trying to do things all on your own,\" says susan eckert, associate dean for finance in emory university's nell hodgson woodruff school of nursing and another next wave contributor.  ask around. talk to your pi, your old advisor, your collaborators. pigeonhole researchers at conferences. don't ask them straight out; chat them up about what they're working on these days--and, oh by the way, where do you get your funding? \"i think it's amazing how many different kinds of grants pis have that we don't know about,\" says maryrose franko, senior program officer at the howard hughes medical institute, sponsor of  .  and while you're at it, consider making contact even at the obvious funding agencies, if you haven't already. nih, for example, is a wildly diverse place, so try to find a friendly guide. nih program officers are there to help, says dennis glanzman, chief of theoretical and computational neuroscience at the national institute for mental health. \"tell us what you're interested in or send a 1- to 2-page white paper. we can usually find the right person for you [to talk to]. so many people seem to be afraid of nih as a black box, so they don't even try\" to inquire, he says.       of all the odd places you've looked for funding, i bet sba is one you hadn't thought of. sba does not directly fund research, but a 1982 sba mandate has made available hundreds of millions of dollars through participating government agencies (in 2001, total grants exceeded $78 million). every government agency with an external r&d budget of at least $100 million is required to participate in the small business innovation research (sbir) and small business technology transfer (sttr) programs. with 11 participating agencies (not including the national security agency and the central intelligence agency, which participate under a different set of rules), this adds up to quite a bit of money.  and before you object that you're not in business, keep in mind a nice little caveat in the sbir mechanism: you do not need to be in business to apply. though sbir grants require you to be employed by a small business at the time the award is made, with sttr grants you can keep your day job, as long as you are   with a small business. sttr rules require that 40% of the research work has to be done by the business. if you have an idea with true potential, finding a young technology company that's willing to take some government money shouldn't be that hard.  here's how it works. a participating agency with a specific need issues an sbir or sttr solicitation describing it. if you find something you think you can develop, you apply.  phase i typically nets you fewer than $100,000 for a short-term proof-of-concept study. if you get invited to apply for phase ii, you're eligible for $450,000 to $750,000 over a 2-year period, at which point you are expected to develop the technology for commercialization. phase iii \"is nirvana,\" says morgan allyn, director of strategic initiatives for springboard enterprises in washington, d.c., which helps women entrepreneurs secure equity financing. that's because the true boon of sbir is that once you've developed the technology, you are the government's exclusive provider for as long as you remain in control of it. that sensor you develop for the air force might just be bought by the other armed forces as well.  several million- and billion-dollar companies owe their starts to sbir grants, according to allyn. \"it gave them the edge. it put a stamp of approval that they knew how to do r&d, and you get easier access to other federal contracts. and the piece that trumps it all is, the moment you win a phase i sbir contract you are immediately eligible to be the sole source provider.\"  the first step allyn recommends is heading to  , which provides a searchable database of sbir announcements both past and present. plugging in a variety of keywords related to your work may produce some surprises. even if you have no intention of applying for an sbir grant, it might be a useful exercise. all of these agencies have external r&d of at least $100 million, so there is money to go after even through more traditional avenues.  so go crazy, there and elsewhere. surf the nsf web site, nih's crisp database, grantsnet, the doe office of science, and any other potential sponsors you can think of. finally, visit next wave's   of federal research-funding agencies. surf using keywords only tangentially related to your own subject, and see what comes up. it may or not yield an unexpected windfall, but such explorations are an interesting exercise. even better: reading about other's research can always inspire new ideas for your own.\n"
    }
   ],
   "source": [
    "output_article(df_misclassified.loc[list_samples[1]])"
   ]
  },
  {
   "cell_type": "markdown",
   "metadata": {},
   "source": [
    "Third case:"
   ]
  },
  {
   "cell_type": "code",
   "execution_count": 22,
   "metadata": {},
   "outputs": [
    {
     "name": "stdout",
     "output_type": "stream",
     "text": "Actual Category: second\nPredicted Category: third\n-------------------------------------------\nText: \n  by      ara is 2 years into her first postdoc, and she has begun to give some serious thought to the next step in her career. although she is concerned about starting a family and is apprehensive about diving into the publish-or-perish, grant-intensive faculty cycle, she hasn't really considered any option other than applying for academic positions. during her many late nights in the lab she takes time to read the back pages of major science journals and scans online career sites. she visits the job board and tries to talk to pi's at the one major meeting that she attends each year.  despite the generally glum articles about academic careers for scientists, she tells herself that she'll be able to find something. \"after all,\" she thinks, \"gary in the next lab got a faculty position, and his cv wasn't much better than mine.\" but even though she hasn't started applying for jobs, sara has already convinced herself that a fellowship extension, or even a second postdoc, might be best, because then she could get a few more experiments done and maybe one or more new publications. \"after all,\" she thinks to herself, \"isn't everyone spending 3 to 5 years in postdocs these days?\"  sara is walking a path familiar to many postdocs and graduate students at academic research labs across the country. these talented young scientists have tread the first part of the well-worn trail from graduate school to a postdoc and on, hopefully, to a satisfying permanent job at a university, an academic medical center, or in industry. many have become complacent, egged on both by the rosy advice of mentors and frequent reports of imminent science-workforce shortages.  but guess what? the job outlook for science ph.d.'s should foster anything but complacency. most graduate-degreed scientists end up, eventually, with rewarding careers, but the path is not well-marked and many end up in a different place than they expect to. you need to start thinking about possible career outcomes (yes, plural!) right now.       consider the statistics for a career in academia. the number of postdocs studying in science and engineering (s&e) fields at u.s. degree-granting institutions grew 18.6%, from 36,158 to 42,889, between 1994 and 2001, respectively.1 over the same interval the number of s&e doctorates holding tenure-track positions increased 6.1% (from 36,830 to 39,080). the number holding non-tenure track positions (e.g., soft-money research faculty) has, meanwhile, increased 38.3%, from 21,500 to 29,740.2 these data are sobering for young scientists who went into graduate school expecting to move into tenure-track positions when they emerged from their postdoctorates (or even sooner). in the biomedical sciences the numbers are dismal: only 14.4% of scientists are in faculty jobs within 5 to 6 years of receiving their ph.d., down from 34.3% in 1981.3  it is becoming increasingly evident that the job market is changing. ph.d. scientists and engineers are finding jobs outside the traditional realms of employment. so where are the jobs? just take a look around--they are everywhere! today you can find scientists working for private industry, government agencies, nongovernmental organizations, newspapers, law firms, venture capitol groups, and many other areas. some of the doctorates employed in these areas continue to do research, including those who start their own companies, but many more are finding that their scientific training has opened doors to exciting new job opportunities in regulatory affairs, informatics, technology transfer, science journalism, science policy, and education, among many others.  [  ]  although scientists with advanced degrees have always been employed in these fields, the trend toward \"alternative\" career tracks for ph.d. (and increasingly m.s.) scientists and engineers are increasing dramatically. unfortunately, lots of young scientists don't know that these are accessible and entirely respectable--even deeply satisfying--careers, and many express frustration that they are ill-prepared for these types of jobs.       so how do you prepare for a career as a scientist in a changing job market? many young scientists have told me that their graduate programs instilled a false sense of security and fostered complacency about the necessity of developing career-building skills. it is unfortunate that most graduate programs in the sciences view the ph.d. as a purely academic degree, rather than seeing its close similarity to professional degrees.  [  ].  this contrast could not be more evident than when you compare career preparedness offerings at a typical science graduate program with most mba programs, even those at the same institution. typical mba resources include an orientation to career projections during the first year of the program, career coaches and teams, and a career center that is an integral part of the degree program. many such programs take great pride in their very high rates of placement of graduates in high-profile, lucrative positions. for most science graduate students and postdocs, however, all of those roles are combined into one, ill-trained person: your pi. although your pi may (or may not) try his best to look out for your career, he can't be everything to all people. given this situation, it becomes, by default, your personal responsibility to look after your career.  when should you start to plan your career? as early as possible, preferably as you begin graduate school or even before. if you are a postdoc now and haven't done much planning, you may have some catching up to do, but with a bit of resourcefulness you can make up for lost time. the really important question, however, is   to plan for your future career. in my talks with young scientists across the country i've encouraged them to embrace the following concepts: due diligence, personal accountability, and agility.       jim austin discussed the concept of due diligence in the context of career development in a recent next wave article called  . in a nutshell, \"due diligence\" means researching every step of your career with an eye toward balancing short-term sacrifices against long-term career satisfaction. yes, believe it or not you should have your long-term plans in mind all the time, and those plans should always be the ultimate metric for what you are willing to \"put up with\" as your career develops.  it's incredibly important to start by sitting down and figuring out your career game plan. develop a primary plan and a backup plan. a key element in all of this is research; surprisingly, people who rightfully pride themselves on their skills as researchers usually don't use those well-honed skills when planning their own careers. don't get me wrong--this isn't necessarily easy to do.  start by talking with your peers, your pi, others in your department, and strangers at meetings about job opportunities and pitfalls. use the internet and professional publications to get an overview of the job market--how many openings are there in your field each year? how many candidates? join a professional society; many of them provide not only networking opportunities, but also career development workshops at their meetings and online. above all, revisit your career plans frequently to determine whether you are making progress toward your goals, and whether your goals have changed (or ought to). it is essential that you also not feel obligated to stick with your original plan. after all, continued exposure to other career options may cause you to alter what it is you want to do. more on that in a little bit.  if you plan on doing a postdoc, make sure you have mapped out   career choice as well. as jim austin wrote in his article, pursue due diligence when researching a potential lab prior to joining it. but beyond that, make sure you know what you want out of the experience, and do everything you can to ensure that you achieve your goals. for example, if you want to do research and some teaching, choose a mentor who will support that goal (or, even better, provide teaching opportunities and funding).  if you have decided to work in industry (or think that you might like to), choose a pi who has industry connections or does collaborative research with industry. design a postdoctoral program that allows you to work both in academic and industrial settings--even if it means that you have more than one pi and really confusing funding. always keep in mind that postdocs and postdoctoral positions are a dime a dozen--you have little to lose in applying some strong personal lobbying for what you want. after all, if you don't get it there are other positions waiting for you. shop around until you find a postdoc that gives you what you want.       personal accountability is another catch phrase borrowed from the business world. this concept encourages you to take personal responsibility for all aspects of your career, including your mistakes. it also promotes self-reflection about what makes you happy and what works with your personal situation (family, income, etc). if you are unhappy or feel unfulfilled in your current position, it's up to you to make the changes necessary to achieve your long-term career and lifestyle goals. there's no one to blame but yourself. sound a bit too much like something out of a motivational speaker at an executive retreat? so be it; scientists looking for jobs have a lot to learn from the business community.  how does this concept help you develop your career goals? we have all heard stories (or told them ourselves) of graduate students and postdocs who get little attention from their mentors, or wish they had more independence on their projects, or wish they could start a family but don't feel able to. [  ]  personal accountability means judging for yourself whether the negative factors of your careers can be changed within the context of your current position, and whether they are acceptable in light of your long-term goals. sitting in the lab late at night with a lab mate and complaining (yet again) about your current mentor, project, or position won't really solve anything, although it might make you feel a little better. instead, identify the core problems and try to resolve them. if an honest assessment of your situation (and i mean   honest) convinces you that the bad outweighs the good, you may have to consider making a major change.       planning and self-analysis are essential, but as robert burns wrote, \"the best laid schemes o' mice an' men / gang aft a-gley.\" even if you know exactly what you want, and work diligently to get it, things might not work out. furthermore, the best opportunities often arise unexpected. most adults change jobs several times during their life, and scientists are no different. an academic researcher moves into administration, or leaves academia for industry (or starts her own company). an industry or government scientist moves to academia or to the nonprofit sector. it happens all the time.  and many of these folks will tell you that these career changes weren't planned, but came along serendipitously--opportunities arose out of their professional and nonprofessional activities. agility means keeping yourself open to these possibilities, designing your professional life to expose yourself to them as much as possible, and cultivating the ability to take advantage of them when they arise.  how do you become agile? it's a lot easier than you might think ... and also harder, in a way. you could join and become active in professional societies (especially as a graduate student) and take advantage of the increased networking and exposure that societies provide to broader issues. serving on a university or department committee, or being an active member of university organizations, provides equally valuable networking and exposure. many young leaders in science have started journal clubs or organizations (postdoc associations, entrepreneur clubs) and identify those activities with their later success. stepping outside of academia and the university to work on passion-based projects (nonprofits, reelection campaigns, or charities) or with industry networks is a great way to gain new perspectives and personal networks that may broaden your career outlook.  there is a common thread to these activities that many science leaders will identify as critical: you learn about yourself by regularly moving outside of your comfort zone and challenging yourself to think in new ways. this is something that many young scientists don't work hard enough at. it isn't easy, but the payoff can be remarkable.  even if you remain on your original career course, being professionally agile can result in exciting opportunities. at a recent talk on leadership in science, a prominent physicist who is very active in societal issues explained his extracurricular activities this way: \"i never want to be in the position to say that i wish i had done that when i had the chance.\" that's a pretty good philosophy to live by.            nsf survey of graduate students and postdoctorates in science and engineering nsf survey of doctoral recipients h. h. garrison  , \"in an era of scientific opportunity, are there opportunities for biomedical scientists?\",  . (published online 2 october 2003;  )\n"
    }
   ],
   "source": [
    "output_article(df_misclassified.loc[list_samples[2]])"
   ]
  },
  {
   "cell_type": "markdown",
   "metadata": {},
   "source": [
    "We can see that in all cases the category is not 100% clear, since these articles contain concepts of both categories. These errors will always happen and we are not looking forward to be 100% accurate on them."
   ]
  }
 ],
 "metadata": {
  "kernelspec": {
   "display_name": "Python 3",
   "language": "python",
   "name": "python3"
  },
  "language_info": {
   "codemirror_mode": {
    "name": "ipython",
    "version": 3
   },
   "file_extension": ".py",
   "mimetype": "text/x-python",
   "name": "python",
   "nbconvert_exporter": "python",
   "pygments_lexer": "ipython3",
   "version": "3.7.4-final"
  }
 },
 "nbformat": 4,
 "nbformat_minor": 2
}