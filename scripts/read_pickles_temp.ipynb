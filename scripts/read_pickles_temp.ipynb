{
 "nbformat": 4,
 "nbformat_minor": 2,
 "metadata": {
  "language_info": {
   "name": "python",
   "codemirror_mode": {
    "name": "ipython",
    "version": 3
   },
   "version": "3.7.4-final"
  },
  "orig_nbformat": 2,
  "file_extension": ".py",
  "mimetype": "text/x-python",
  "name": "python",
  "npconvert_exporter": "python",
  "pygments_lexer": "ipython3",
  "version": 3,
  "kernelspec": {
   "name": "python37464bitprogramdatavirtualenv9c9562e930a04153a75dc01272d28637",
   "display_name": "Python 3.7.4 64-bit ('ProgramData': virtualenv)"
  }
 },
 "cells": [
  {
   "cell_type": "code",
   "execution_count": 2,
   "metadata": {},
   "outputs": [],
   "source": [
    "import pickle\n",
    "import pandas as pd"
   ]
  },
  {
   "cell_type": "code",
   "execution_count": 13,
   "metadata": {},
   "outputs": [],
   "source": [
    "path_df = \"pickles/hand_coded1_2.pickle\"\n",
    "\n",
    "with open(path_df, 'rb') as data:\n",
    "    coded_df = pickle.load(data)"
   ]
  },
  {
   "cell_type": "code",
   "execution_count": null,
   "metadata": {},
   "outputs": [],
   "source": []
  },
  {
   "cell_type": "code",
   "execution_count": null,
   "metadata": {},
   "outputs": [],
   "source": []
  },
  {
   "cell_type": "code",
   "execution_count": null,
   "metadata": {},
   "outputs": [],
   "source": []
  },
  {
   "cell_type": "code",
   "execution_count": null,
   "metadata": {},
   "outputs": [],
   "source": []
  },
  {
   "cell_type": "code",
   "execution_count": null,
   "metadata": {},
   "outputs": [],
   "source": []
  },
  {
   "cell_type": "code",
   "execution_count": 15,
   "metadata": {},
   "outputs": [
    {
     "output_type": "execute_result",
     "data": {
      "text/plain": "      id                                           headline  first  second  \\\n0    730  diary of a british scientist, part 2: brushing...     54       0   \n1   4200                  alyson reed takes the helm at npa     10       0   \n2   4453                            unveiling the blindness     76       1   \n3    286                     talk yourself right into a job      3      64   \n4   1034          loan-repayment for biomedical researchers      6      29   \n5   1995              changes to nsf's grant proposal guide      2       1   \n6   2299  bench to page: an editor's view of science pub...     48       0   \n7   2816  the european research council opens its next r...      0       0   \n8   5033  perspective: keep working (even if you don't g...     29      74   \n9   5926               rare diseases and rare opportunities     30       4   \n10  5718                             rehabilitation science     14       5   \n11  1185          yours transferredly: expert or charlatan?    101      17   \n12  3992              economists: h-1b visas suppress wages      1       0   \n13   161             tooling up: salary negotiation, part 2     19      52   \n14  6036       a social media survival guide for scientists      1      30   \n15  3917                                  coming to america      3       0   \n16  5911  many postdocs face challenges securing parenta...      0       6   \n17  3985       eroding benefits for umd postdocs? [revised]      0       0   \n18  3341                                  the artful dodger     92       6   \n19  4554              from human resources to new therapies     60      17   \n\n   input  \n0      1  \n1      3  \n2      1  \n3      2  \n4      3  \n5      3  \n6      1  \n7      3  \n8      2  \n9      3  \n10     2  \n11     1  \n12     3  \n13     2  \n14     2  \n15     3  \n16     3  \n17     3  \n18     1  \n19     1  ",
      "text/html": "<div>\n<style scoped>\n    .dataframe tbody tr th:only-of-type {\n        vertical-align: middle;\n    }\n\n    .dataframe tbody tr th {\n        vertical-align: top;\n    }\n\n    .dataframe thead th {\n        text-align: right;\n    }\n</style>\n<table border=\"1\" class=\"dataframe\">\n  <thead>\n    <tr style=\"text-align: right;\">\n      <th></th>\n      <th>id</th>\n      <th>headline</th>\n      <th>first</th>\n      <th>second</th>\n      <th>input</th>\n    </tr>\n  </thead>\n  <tbody>\n    <tr>\n      <td>0</td>\n      <td>730</td>\n      <td>diary of a british scientist, part 2: brushing...</td>\n      <td>54</td>\n      <td>0</td>\n      <td>1</td>\n    </tr>\n    <tr>\n      <td>1</td>\n      <td>4200</td>\n      <td>alyson reed takes the helm at npa</td>\n      <td>10</td>\n      <td>0</td>\n      <td>3</td>\n    </tr>\n    <tr>\n      <td>2</td>\n      <td>4453</td>\n      <td>unveiling the blindness</td>\n      <td>76</td>\n      <td>1</td>\n      <td>1</td>\n    </tr>\n    <tr>\n      <td>3</td>\n      <td>286</td>\n      <td>talk yourself right into a job</td>\n      <td>3</td>\n      <td>64</td>\n      <td>2</td>\n    </tr>\n    <tr>\n      <td>4</td>\n      <td>1034</td>\n      <td>loan-repayment for biomedical researchers</td>\n      <td>6</td>\n      <td>29</td>\n      <td>3</td>\n    </tr>\n    <tr>\n      <td>5</td>\n      <td>1995</td>\n      <td>changes to nsf's grant proposal guide</td>\n      <td>2</td>\n      <td>1</td>\n      <td>3</td>\n    </tr>\n    <tr>\n      <td>6</td>\n      <td>2299</td>\n      <td>bench to page: an editor's view of science pub...</td>\n      <td>48</td>\n      <td>0</td>\n      <td>1</td>\n    </tr>\n    <tr>\n      <td>7</td>\n      <td>2816</td>\n      <td>the european research council opens its next r...</td>\n      <td>0</td>\n      <td>0</td>\n      <td>3</td>\n    </tr>\n    <tr>\n      <td>8</td>\n      <td>5033</td>\n      <td>perspective: keep working (even if you don't g...</td>\n      <td>29</td>\n      <td>74</td>\n      <td>2</td>\n    </tr>\n    <tr>\n      <td>9</td>\n      <td>5926</td>\n      <td>rare diseases and rare opportunities</td>\n      <td>30</td>\n      <td>4</td>\n      <td>3</td>\n    </tr>\n    <tr>\n      <td>10</td>\n      <td>5718</td>\n      <td>rehabilitation science</td>\n      <td>14</td>\n      <td>5</td>\n      <td>2</td>\n    </tr>\n    <tr>\n      <td>11</td>\n      <td>1185</td>\n      <td>yours transferredly: expert or charlatan?</td>\n      <td>101</td>\n      <td>17</td>\n      <td>1</td>\n    </tr>\n    <tr>\n      <td>12</td>\n      <td>3992</td>\n      <td>economists: h-1b visas suppress wages</td>\n      <td>1</td>\n      <td>0</td>\n      <td>3</td>\n    </tr>\n    <tr>\n      <td>13</td>\n      <td>161</td>\n      <td>tooling up: salary negotiation, part 2</td>\n      <td>19</td>\n      <td>52</td>\n      <td>2</td>\n    </tr>\n    <tr>\n      <td>14</td>\n      <td>6036</td>\n      <td>a social media survival guide for scientists</td>\n      <td>1</td>\n      <td>30</td>\n      <td>2</td>\n    </tr>\n    <tr>\n      <td>15</td>\n      <td>3917</td>\n      <td>coming to america</td>\n      <td>3</td>\n      <td>0</td>\n      <td>3</td>\n    </tr>\n    <tr>\n      <td>16</td>\n      <td>5911</td>\n      <td>many postdocs face challenges securing parenta...</td>\n      <td>0</td>\n      <td>6</td>\n      <td>3</td>\n    </tr>\n    <tr>\n      <td>17</td>\n      <td>3985</td>\n      <td>eroding benefits for umd postdocs? [revised]</td>\n      <td>0</td>\n      <td>0</td>\n      <td>3</td>\n    </tr>\n    <tr>\n      <td>18</td>\n      <td>3341</td>\n      <td>the artful dodger</td>\n      <td>92</td>\n      <td>6</td>\n      <td>1</td>\n    </tr>\n    <tr>\n      <td>19</td>\n      <td>4554</td>\n      <td>from human resources to new therapies</td>\n      <td>60</td>\n      <td>17</td>\n      <td>1</td>\n    </tr>\n  </tbody>\n</table>\n</div>"
     },
     "metadata": {},
     "execution_count": 15
    }
   ],
   "source": [
    "coded_df"
   ]
  },
  {
   "cell_type": "code",
   "execution_count": null,
   "metadata": {},
   "outputs": [],
   "source": []
  }
 ]
}