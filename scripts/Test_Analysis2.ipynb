{
 "cells": [
  {
   "cell_type": "code",
   "execution_count": 1,
   "metadata": {},
   "outputs": [
    {
     "name": "stdout",
     "output_type": "stream",
     "text": "done\n"
    }
   ],
   "source": [
    "import pandas as pd\n",
    "import ast\n",
    "import numpy as np\n",
    "import seaborn as sns\n",
    "import matplotlib.pyplot as plt\n",
    "%matplotlib inline\n",
    "\n",
    "# import spacy\n",
    "# import wordcloud\n",
    "# import en_core_web_sm\n",
    "# nlp = spacy.load('en_core_web_sm')\n",
    "# from collections import Counter\n",
    "\n",
    "from pandas.plotting import register_matplotlib_converters\n",
    "register_matplotlib_converters()\n",
    "\n",
    "import os\n",
    "abspath = os.path.abspath('D:/Box Sync/editorials/scripts/')\n",
    "os.chdir(abspath)\n",
    "\n",
    "pd.set_option('display.max_rows', 500)\n",
    "pd.set_option('display.max_columns', 500)\n",
    "pd.set_option('display.max_colwidth', 100)\n",
    "pd.set_option('display.width', 150)\n",
    "\n",
    "print(\"done\")"
   ]
  },
  {
   "cell_type": "code",
   "execution_count": 2,
   "metadata": {},
   "outputs": [
    {
     "name": "stdout",
     "output_type": "stream",
     "text": "done\n"
    }
   ],
   "source": [
    "import import_func as imp\n",
    "import desc_vis as vis\n",
    "import tags_work as tgs\n",
    "# import D:/Box Sync/editorials/scripts/import_func as imp\n",
    "# import D:/Box Sync/editorials/scripts/desc_vis as vis\n",
    "\n",
    "# Data\n",
    "elist = \"D:/Box Sync/editorials/data/editorials-1.jl\"\n",
    "tags = \"D:/Box Sync/editorials/data/by_article_110219.jl\"\n",
    "\n",
    "print(\"done\")"
   ]
  },
  {
   "cell_type": "markdown",
   "metadata": {},
   "outputs": [],
   "source": [
    "Import and process the data from .jl files using import_func functions"
   ]
  },
  {
   "cell_type": "code",
   "execution_count": 3,
   "metadata": {},
   "outputs": [
    {
     "data": {
      "text/html": "<div>\n<style scoped>\n    .dataframe tbody tr th:only-of-type {\n        vertical-align: middle;\n    }\n\n    .dataframe tbody tr th {\n        vertical-align: top;\n    }\n\n    .dataframe thead th {\n        text-align: right;\n    }\n</style>\n<table border=\"1\" class=\"dataframe\">\n  <thead>\n    <tr style=\"text-align: right;\">\n      <th></th>\n      <th>headline</th>\n      <th>preview</th>\n      <th>authors</th>\n      <th>date</th>\n    </tr>\n  </thead>\n  <tbody>\n    <tr>\n      <td>4</td>\n      <td>three keys to launching your own lab</td>\n      <td>in this letter to young scientists, our columnists share their advice for new faculty members</td>\n      <td>leah h. somerville, william a. cunningham, et al.</td>\n      <td>2019-08-14</td>\n    </tr>\n    <tr>\n      <td>3</td>\n      <td>ultrarunning made me a more resilient scientist</td>\n      <td>lessons learned from a running group helped this grad student redefine success, both professiona...</td>\n      <td>mikel haggadone</td>\n      <td>2019-08-15</td>\n    </tr>\n    <tr>\n      <td>2</td>\n      <td>why some professors welcome new lab members with clear expectations—in writing</td>\n      <td>documents like these can help labs run more smoothly</td>\n      <td>katie langin</td>\n      <td>2019-08-19</td>\n    </tr>\n    <tr>\n      <td>1</td>\n      <td>how do you doogie? science’s infatuation with young prodigies</td>\n      <td>our experimental error columnist reflects on the allure of youth</td>\n      <td>adam ruben</td>\n      <td>2019-08-21</td>\n    </tr>\n    <tr>\n      <td>0</td>\n      <td>how i conquered my fear of public speaking and learned to give effective presentations</td>\n      <td>this postdoc learned four key lessons that helped her engage with her audiences</td>\n      <td>mathilde his</td>\n      <td>2019-08-22</td>\n    </tr>\n  </tbody>\n</table>\n</div>",
      "text/plain": "                                                                                 headline  \\\n4                                                    three keys to launching your own lab   \n3                                         ultrarunning made me a more resilient scientist   \n2          why some professors welcome new lab members with clear expectations—in writing   \n1                           how do you doogie? science’s infatuation with young prodigies   \n0  how i conquered my fear of public speaking and learned to give effective presentations   \n\n                                                                                               preview  \\\n4        in this letter to young scientists, our columnists share their advice for new faculty members   \n3  lessons learned from a running group helped this grad student redefine success, both professiona...   \n2                                                 documents like these can help labs run more smoothly   \n1                                     our experimental error columnist reflects on the allure of youth   \n0                      this postdoc learned four key lessons that helped her engage with her audiences   \n\n                                             authors       date  \n4  leah h. somerville, william a. cunningham, et al. 2019-08-14  \n3                                    mikel haggadone 2019-08-15  \n2                                       katie langin 2019-08-19  \n1                                         adam ruben 2019-08-21  \n0                                       mathilde his 2019-08-22  "
     },
     "execution_count": 3,
     "metadata": {},
     "output_type": "execute_result"
    }
   ],
   "source": [
    "elist = \"../data/editorials-1.jl\"\n",
    "tags = \"../data/by_article_110219.jl\"\n",
    "\n",
    "editorial = imp.import_jl(elist)\n",
    "tags = imp.import_jl(tags)\n",
    "\n",
    "out_edi = imp.process(editorial, \"editorial\")\n",
    "out_tag = imp.process(tags, \"tags\")\n",
    "\n",
    "edi_df = out_edi[0]\n",
    "edi_dict = out_edi[1]\n",
    "\n",
    "tag_df = out_tag[0]\n",
    "tag_dict = out_tag[1]\n",
    "\n",
    "edi_df.tail()"
   ]
  },
  {
   "cell_type": "markdown",
   "metadata": {},
   "outputs": [],
   "source": [
    "Clean the dataframes\n",
    "* make a sequential date column for both dates and months\n",
    "* indicate whether posts are columns or not (because early posts do not have a column tag, posts by authors that appear more than [5] times will be considered columns"
   ]
  },
  {
   "cell_type": "code",
   "execution_count": 4,
   "metadata": {},
   "outputs": [
    {
     "data": {
      "text/plain": "23104"
     },
     "execution_count": 4,
     "metadata": {},
     "output_type": "execute_result"
    }
   ],
   "source": [
    "edi_df = imp.seq_dates(edi_df, \"editorial\")\n",
    "tag_df = imp.seq_dates(tag_df, \"tags\")\n",
    "\n",
    "tags_df = imp.id_columns(tag_df)\n",
    "\n",
    "tags_df = tgs.seperate_tags(tags_df)\n",
    "\n",
    "len(tags_df)\n"
   ]
  },
  {
   "cell_type": "markdown",
   "metadata": {},
   "outputs": [],
   "source": [
    "## Tags work ##"
   ]
  },
  {
   "cell_type": "code",
   "execution_count": 8,
   "metadata": {},
   "outputs": [
    {
     "data": {
      "text/html": "<div>\n<style scoped>\n    .dataframe tbody tr th:only-of-type {\n        vertical-align: middle;\n    }\n\n    .dataframe tbody tr th {\n        vertical-align: top;\n    }\n\n    .dataframe thead th {\n        text-align: right;\n    }\n</style>\n<table border=\"1\" class=\"dataframe\">\n  <thead>\n    <tr style=\"text-align: right;\">\n      <th></th>\n      <th>headline</th>\n      <th>authors</th>\n      <th>date</th>\n      <th>time</th>\n      <th>date_seq</th>\n      <th>month_seq</th>\n      <th>year</th>\n      <th>n_posts_author</th>\n      <th>column1</th>\n      <th>column2</th>\n      <th>variable</th>\n      <th>tag</th>\n      <th>col_tag</th>\n    </tr>\n  </thead>\n  <tbody>\n    <tr>\n      <td>189977</td>\n      <td>getting credit for peer review</td>\n      <td>sandeep ravindran</td>\n      <td>2016-02-08</td>\n      <td>3:15 pm</td>\n      <td>7070</td>\n      <td>242</td>\n      <td>2016</td>\n      <td>1</td>\n      <td>no</td>\n      <td>no</td>\n      <td>30</td>\n      <td>india</td>\n      <td>no</td>\n    </tr>\n    <tr>\n      <td>196112</td>\n      <td>want a letter? you write it for me</td>\n      <td>roger s. day</td>\n      <td>2016-01-07</td>\n      <td>2:30 pm</td>\n      <td>7038</td>\n      <td>241</td>\n      <td>2016</td>\n      <td>1</td>\n      <td>yes</td>\n      <td>yes</td>\n      <td>31</td>\n      <td>oncology</td>\n      <td>no</td>\n    </tr>\n    <tr>\n      <td>196113</td>\n      <td>getting credit for peer review</td>\n      <td>sandeep ravindran</td>\n      <td>2016-02-08</td>\n      <td>3:15 pm</td>\n      <td>7070</td>\n      <td>242</td>\n      <td>2016</td>\n      <td>1</td>\n      <td>no</td>\n      <td>no</td>\n      <td>31</td>\n      <td>united states</td>\n      <td>no</td>\n    </tr>\n    <tr>\n      <td>202248</td>\n      <td>want a letter? you write it for me</td>\n      <td>roger s. day</td>\n      <td>2016-01-07</td>\n      <td>2:30 pm</td>\n      <td>7038</td>\n      <td>241</td>\n      <td>2016</td>\n      <td>1</td>\n      <td>yes</td>\n      <td>yes</td>\n      <td>32</td>\n      <td>other fields</td>\n      <td>no</td>\n    </tr>\n    <tr>\n      <td>208384</td>\n      <td>want a letter? you write it for me</td>\n      <td>roger s. day</td>\n      <td>2016-01-07</td>\n      <td>2:30 pm</td>\n      <td>7038</td>\n      <td>241</td>\n      <td>2016</td>\n      <td>1</td>\n      <td>yes</td>\n      <td>yes</td>\n      <td>33</td>\n      <td>americas</td>\n      <td>no</td>\n    </tr>\n  </tbody>\n</table>\n</div>",
      "text/plain": "                                  headline            authors       date     time  date_seq  month_seq  year  n_posts_author column1 column2  \\\n189977      getting credit for peer review  sandeep ravindran 2016-02-08  3:15 pm      7070        242  2016               1      no      no   \n196112  want a letter? you write it for me       roger s. day 2016-01-07  2:30 pm      7038        241  2016               1     yes     yes   \n196113      getting credit for peer review  sandeep ravindran 2016-02-08  3:15 pm      7070        242  2016               1      no      no   \n202248  want a letter? you write it for me       roger s. day 2016-01-07  2:30 pm      7038        241  2016               1     yes     yes   \n208384  want a letter? you write it for me       roger s. day 2016-01-07  2:30 pm      7038        241  2016               1     yes     yes   \n\n       variable            tag col_tag  \n189977       30          india      no  \n196112       31       oncology      no  \n196113       31  united states      no  \n202248       32   other fields      no  \n208384       33       americas      no  "
     },
     "execution_count": 8,
     "metadata": {},
     "output_type": "execute_result"
    }
   ],
   "source": [
    "\n",
    "inc_dict = tgs.tag_incidence(tags_df, lifespan = True, id_col_tag = True, binary = True)\n",
    "\n",
    "#print(inc_dict[\"working life\"][\"overall\"])\n",
    "\n",
    "col_tag_todf = {}\n",
    "\n",
    "for i in tags_df.index.values:\n",
    "    w_tag = tags_df.loc[i, \"tag\"]\n",
    "    col_tag_todf[w_tag] = inc_dict[w_tag][\"overall\"][\"col_tag\"]\n",
    "\n",
    "tags_df[\"col_tag\"] = tags_df[\"tag\"].map(col_tag_todf) \n",
    "\n",
    "tags_df.tail()"
   ]
  },
  {
   "cell_type": "code",
   "execution_count": 14,
   "metadata": {},
   "outputs": [
    {
     "data": {
      "text/html": "<div>\n<style scoped>\n    .dataframe tbody tr th:only-of-type {\n        vertical-align: middle;\n    }\n\n    .dataframe tbody tr th {\n        vertical-align: top;\n    }\n\n    .dataframe thead th {\n        text-align: right;\n    }\n</style>\n<table border=\"1\" class=\"dataframe\">\n  <thead>\n    <tr style=\"text-align: right;\">\n      <th></th>\n      <th>year</th>\n      <th>tag</th>\n      <th>incidence</th>\n    </tr>\n  </thead>\n  <tbody>\n    <tr>\n      <td>996</td>\n      <td>2016</td>\n      <td>structural biology</td>\n      <td>1</td>\n    </tr>\n    <tr>\n      <td>997</td>\n      <td>2016</td>\n      <td>toxicology</td>\n      <td>1</td>\n    </tr>\n    <tr>\n      <td>998</td>\n      <td>2016</td>\n      <td>veterinary medicine</td>\n      <td>1</td>\n    </tr>\n    <tr>\n      <td>999</td>\n      <td>2016</td>\n      <td>virology</td>\n      <td>1</td>\n    </tr>\n    <tr>\n      <td>1000</td>\n      <td>2016</td>\n      <td>biophysics</td>\n      <td>1</td>\n    </tr>\n  </tbody>\n</table>\n</div>",
      "text/plain": "      year                  tag  incidence\n996   2016   structural biology          1\n997   2016           toxicology          1\n998   2016  veterinary medicine          1\n999   2016             virology          1\n1000  2016           biophysics          1"
     },
     "execution_count": 14,
     "metadata": {},
     "output_type": "execute_result"
    }
   ],
   "source": [
    "# tags incidence dataframe\n",
    "tag_inc_df = {\"year\":[],\"tag\":[],\"incidence\":[]}\n",
    "tag_inc_counting = {}\n",
    "# tag_inc_counting = {tag: {year:int, year: int, year: int}}\n",
    "\n",
    "# count incidences of each tag per year\n",
    "for key in [key for key in inc_dict.keys()]:\n",
    "    # print(key)\n",
    "    if inc_dict[key][\"overall\"][\"col_tag\"] == \"no\": # filter out tags that are probs identifying columns\n",
    "        if key in tag_inc_counting.keys():\n",
    "            for post in inc_dict[key][\"overall\"][\"span\"]:\n",
    "                w_year = imp.cumul_to(post[1], \"m\")\n",
    "                if w_year in tag_inc_counting[key].keys():\n",
    "                    tag_inc_counting[key][w_year] += 1\n",
    "        else:\n",
    "            tag_inc_counting[key] = {}\n",
    "            for post in inc_dict[key][\"overall\"][\"span\"]:\n",
    "                tag_inc_counting[key][imp.cumul_to(post[1], \"m\")] = 1\n",
    "\n",
    "# convert counting dictionary to dictionary that can be made into a df\n",
    "for key in tag_inc_counting.keys():\n",
    "    for year in tag_inc_counting[key].keys():\n",
    "        tag_inc_df[\"year\"].append(year)\n",
    "        tag_inc_df[\"tag\"].append(key)\n",
    "        tag_inc_df[\"incidence\"].append(tag_inc_counting[key][year])\n",
    "\n",
    "tag_inc_df = pd.DataFrame(tag_inc_df)\n",
    "tag_inc_df.tail()"
   ]
  },
  {
   "cell_type": "markdown",
   "metadata": {},
   "outputs": [],
   "source": [
    "Descriptive for tags\n",
    "* how many tags total\n",
    "* average number of tags per post\n"
   ]
  },
  {
   "cell_type": "code",
   "execution_count": 0,
   "metadata": {},
   "outputs": [],
   "source": [
    "# total tags\n",
    "len(inc_dict)\n",
    "\n",
    "# average tags per post\n",
    "np.average(tags_df.groupby(by = \"headline\").size())\n"
   ]
  },
  {
   "cell_type": "markdown",
   "metadata": {},
   "outputs": [],
   "source": [
    "# Publication Rates"
   ]
  },
  {
   "cell_type": "code",
   "execution_count": 0,
   "metadata": {},
   "outputs": [],
   "source": [
    "# Density of all posts by Sequential date\n",
    "sns.distplot(editorial[\"date_seq\"])"
   ]
  },
  {
   "cell_type": "code",
   "execution_count": 0,
   "metadata": {},
   "outputs": [],
   "source": [
    "# Posts each month\n"
   ]
  }
 ],
 "metadata": {
  "kernelspec": {
   "display_name": "Python 3",
   "language": "python",
   "name": "python3"
  },
  "language_info": {
   "codemirror_mode": {
    "name": "ipython",
    "version": 3
   },
   "file_extension": ".py",
   "mimetype": "text/x-python",
   "name": "python",
   "nbconvert_exporter": "python",
   "pygments_lexer": "ipython3",
   "version": "3.7.4"
  }
 },
 "nbformat": 4,
 "nbformat_minor": 2
}