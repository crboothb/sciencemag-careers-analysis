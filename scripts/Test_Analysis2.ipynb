{
 "cells": [
  {
   "cell_type": "code",
   "execution_count": 9,
   "metadata": {},
   "outputs": [
    {
     "ename": "ModuleNotFoundError",
     "evalue": "No module named 'seaborn'",
     "output_type": "error",
     "traceback": [
      "\u001b[1;31m---------------------------------------------------------------------------\u001b[0m",
      "\u001b[1;31mModuleNotFoundError\u001b[0m                       Traceback (most recent call last)",
      "\u001b[1;32m<ipython-input-9-dee5b4429bd3>\u001b[0m in \u001b[0;36m<module>\u001b[1;34m\u001b[0m\n\u001b[0;32m      2\u001b[0m \u001b[1;32mimport\u001b[0m \u001b[0mast\u001b[0m\u001b[1;33m\u001b[0m\u001b[1;33m\u001b[0m\u001b[0m\n\u001b[0;32m      3\u001b[0m \u001b[1;32mimport\u001b[0m \u001b[0mnumpy\u001b[0m \u001b[1;32mas\u001b[0m \u001b[0mnp\u001b[0m\u001b[1;33m\u001b[0m\u001b[1;33m\u001b[0m\u001b[0m\n\u001b[1;32m----> 4\u001b[1;33m \u001b[1;32mimport\u001b[0m \u001b[0mseaborn\u001b[0m \u001b[1;32mas\u001b[0m \u001b[0msns\u001b[0m\u001b[1;33m\u001b[0m\u001b[1;33m\u001b[0m\u001b[0m\n\u001b[0m\u001b[0;32m      5\u001b[0m \u001b[1;32mimport\u001b[0m \u001b[0mmatplotlib\u001b[0m\u001b[1;33m.\u001b[0m\u001b[0mpyplot\u001b[0m \u001b[1;32mas\u001b[0m \u001b[0mplt\u001b[0m\u001b[1;33m\u001b[0m\u001b[1;33m\u001b[0m\u001b[0m\n\u001b[0;32m      6\u001b[0m \u001b[0mget_ipython\u001b[0m\u001b[1;33m(\u001b[0m\u001b[1;33m)\u001b[0m\u001b[1;33m.\u001b[0m\u001b[0mrun_line_magic\u001b[0m\u001b[1;33m(\u001b[0m\u001b[1;34m'matplotlib'\u001b[0m\u001b[1;33m,\u001b[0m \u001b[1;34m'inline'\u001b[0m\u001b[1;33m)\u001b[0m\u001b[1;33m\u001b[0m\u001b[1;33m\u001b[0m\u001b[0m\n",
      "\u001b[1;31mModuleNotFoundError\u001b[0m: No module named 'seaborn'"
     ]
    }
   ],
   "source": [
    "import pandas as pd\n",
    "import ast\n",
    "import numpy as np\n",
    "import seaborn as sns\n",
    "import matplotlib.pyplot as plt\n",
    "%matplotlib inline\n",
    "\n",
    "# import spacy\n",
    "# import wordcloud\n",
    "# import en_core_web_sm\n",
    "# nlp = spacy.load('en_core_web_sm')\n",
    "# from collections import Counter\n",
    "\n",
    "from pandas.plotting import register_matplotlib_converters\n",
    "register_matplotlib_converters()\n",
    "\n",
    "import os\n",
    "abspath = os.path.abspath('D:/Box Sync/editorials/scripts/')\n",
    "os.chdir(abspath)\n",
    "\n",
    "pd.set_option('display.max_rows', 500)\n",
    "pd.set_option('display.max_columns', 500)\n",
    "pd.set_option('display.max_colwidth', 100)\n",
    "pd.set_option('display.width', 150)\n",
    "\n",
    "print(\"done\")"
   ]
  },
  {
   "cell_type": "code",
   "execution_count": 0,
   "metadata": {},
   "outputs": [],
   "source": [
    "import import_func as imp\n",
    "import desc_vis as vis\n",
    "import tags_work as tgs\n",
    "# import D:/Box Sync/editorials/scripts/import_func as imp\n",
    "# import D:/Box Sync/editorials/scripts/desc_vis as vis\n",
    "\n",
    "# Data\n",
    "elist = \"D:/Box Sync/editorials/data/editorials-1.jl\"\n",
    "tags = \"D:/Box Sync/editorials/data/by_article_110219.jl\"\n",
    "\n",
    "print(\"done\")"
   ]
  },
  {
   "cell_type": "markdown",
   "metadata": {},
   "outputs": [],
   "source": [
    "Import and process the data from .jl files using import_func functions"
   ]
  },
  {
   "cell_type": "code",
   "execution_count": 0,
   "metadata": {},
   "outputs": [],
   "source": [
    "elist = \"../data/editorials-1.jl\"\n",
    "tags = \"../data/by_article_110219.jl\"\n",
    "\n",
    "editorial = imp.import_jl(elist)\n",
    "tags = imp.import_jl(tags)\n",
    "\n",
    "edi_df = imp.process(editorial, \"editorial\", \"df\")\n",
    "edi_dict = imp.process(editorial, \"editorial\", \"dict\")\n",
    "\n",
    "tag_df = imp.process(tags, \"tags\", \"df\")\n",
    "tag_dict = imp.process(tags, \"tags\", \"dict\")\n",
    "\n",
    "edi_df.tail()"
   ]
  },
  {
   "cell_type": "markdown",
   "metadata": {},
   "outputs": [],
   "source": [
    "Clean the dataframes\n",
    "* make a sequential date column for both dates and months\n",
    "* indicate whether posts are columns or not (because early posts do not have a column tag, posts by authors that appear more than [5] times will be considered columns"
   ]
  },
  {
   "cell_type": "code",
   "execution_count": 0,
   "metadata": {},
   "outputs": [],
   "source": [
    "edi_df = imp.seq_dates(edi_df, \"editorial\")\n",
    "tag_df = imp.seq_dates(tag_df, \"tags\")\n",
    "\n",
    "tags_df = imp.id_columns(tag_df)\n",
    "\n",
    "tags_df = tgs.seperate_tags(tags_df)\n",
    "\n",
    "len(tags_df)\n"
   ]
  },
  {
   "cell_type": "markdown",
   "metadata": {},
   "outputs": [],
   "source": [
    "## Tags work ##"
   ]
  },
  {
   "cell_type": "code",
   "execution_count": 0,
   "metadata": {},
   "outputs": [],
   "source": [
    "\n",
    "inc_dict = tgs.tag_incidence(tags_df, lifespan = True, id_col_tag = True, binary = True)\n",
    "\n",
    "#print(inc_dict[\"working life\"][\"overall\"])\n",
    "\n",
    "col_tag_todf = {}\n",
    "\n",
    "for i in tags_df.index.values:\n",
    "    w_tag = tags_df.loc[i, \"tag\"]\n",
    "    col_tag_todf[w_tag] = inc_dict[w_tag][\"overall\"][\"col_tag\"]\n",
    "\n",
    "tags_df[\"col_tag\"] = tags_df[\"tag\"].map(col_tag_todf) \n",
    "\n",
    "tags_df.tail()"
   ]
  },
  {
   "cell_type": "code",
   "execution_count": 0,
   "metadata": {},
   "outputs": [],
   "source": [
    "# tags incidence dataframe\n",
    "tag_inc_df = {\"year\":[],\"tag\":[],\"incidence\":[]}\n",
    "tag_inc_counting = {}\n",
    "# tag_inc_counting = {tag: {year:int, year: int, year: int}}\n",
    "\n",
    "# count incidences of each tag per year\n",
    "for key in [key for key in inc_dict.keys()]:\n",
    "    # print(key)\n",
    "    if inc_dict[key][\"overall\"][\"col_tag\"] == \"no\": # filter out tags that are probs identifying columns\n",
    "        if key in tag_inc_counting.keys():\n",
    "            for post in inc_dict[key][\"overall\"][\"span\"]:\n",
    "                w_year = imp.cumul_to(post[1], \"m\")\n",
    "                if w_year in tag_inc_counting[key].keys():\n",
    "                    tag_inc_counting[key][w_year] += 1\n",
    "        else:\n",
    "            tag_inc_counting[key] = {}\n",
    "            for post in inc_dict[key][\"overall\"][\"span\"]:\n",
    "                tag_inc_counting[key][imp.cumul_to(post[1], \"m\")] = 1\n",
    "\n",
    "# convert counting dictionary to dictionary that can be made into a df\n",
    "for key in tag_inc_counting.keys():\n",
    "    for year in tag_inc_counting[key].keys():\n",
    "        tag_inc_df[\"year\"].append(year)\n",
    "        tag_inc_df[\"tag\"].append(key)\n",
    "        tag_inc_df[\"incidence\"].append(tag_inc_counting[key][year])\n",
    "\n",
    "tag_inc_df = pd.DataFrame(tag_inc_df)\n",
    "tag_inc_df.tail()"
   ]
  },
  {
   "cell_type": "markdown",
   "metadata": {},
   "outputs": [],
   "source": [
    "Descriptive for tags\n",
    "* how many tags total\n",
    "* average number of tags per post\n"
   ]
  },
  {
   "cell_type": "code",
   "execution_count": 0,
   "metadata": {},
   "outputs": [],
   "source": [
    "# total tags\n",
    "print(len(inc_dict))\n",
    "\n",
    "# average tags per post\n",
    "print(np.average(tags_df.groupby(by = \"headline\").size()))\n"
   ]
  },
  {
   "cell_type": "markdown",
   "metadata": {},
   "outputs": [],
   "source": [
    "# Publication Rates"
   ]
  },
  {
   "cell_type": "code",
   "execution_count": 0,
   "metadata": {},
   "outputs": [],
   "source": [
    "# Density of all posts by Sequential date\n",
    "sns.distplot(tags_df[\"date_seq\"])"
   ]
  },
  {
   "cell_type": "code",
   "execution_count": 18,
   "metadata": {},
   "outputs": [
    {
     "ename": "AttributeError",
     "evalue": "module 'desc_vis' has no attribute 'prep_per_month'",
     "output_type": "error",
     "traceback": [
      "\u001b[1;31m---------------------------------------------------------------------------\u001b[0m",
      "\u001b[1;31mAttributeError\u001b[0m                            Traceback (most recent call last)",
      "\u001b[1;32m<ipython-input-18-55d18a0122ee>\u001b[0m in \u001b[0;36m<module>\u001b[1;34m\u001b[0m\n\u001b[0;32m      1\u001b[0m \u001b[1;31m# Posts each month\u001b[0m\u001b[1;33m\u001b[0m\u001b[1;33m\u001b[0m\u001b[1;33m\u001b[0m\u001b[0m\n\u001b[0;32m      2\u001b[0m \u001b[1;33m\u001b[0m\u001b[0m\n\u001b[1;32m----> 3\u001b[1;33m \u001b[0mtag_plot_df\u001b[0m \u001b[1;33m=\u001b[0m \u001b[0mvis\u001b[0m\u001b[1;33m.\u001b[0m\u001b[0mprep_per_month\u001b[0m\u001b[1;33m(\u001b[0m\u001b[0mtags_df\u001b[0m\u001b[1;33m)\u001b[0m\u001b[1;33m\u001b[0m\u001b[1;33m\u001b[0m\u001b[0m\n\u001b[0m\u001b[0;32m      4\u001b[0m \u001b[0msns\u001b[0m\u001b[1;33m.\u001b[0m\u001b[0mlineplot\u001b[0m\u001b[1;33m(\u001b[0m\u001b[0mx\u001b[0m \u001b[1;33m=\u001b[0m \u001b[1;34m\"month_seq\"\u001b[0m\u001b[1;33m,\u001b[0m \u001b[0my\u001b[0m \u001b[1;33m=\u001b[0m \u001b[1;34m\"n\"\u001b[0m\u001b[1;33m,\u001b[0m \u001b[0mcolor\u001b[0m \u001b[1;33m=\u001b[0m \u001b[1;34m\"red\"\u001b[0m\u001b[1;33m,\u001b[0m \u001b[0mdata\u001b[0m \u001b[1;33m=\u001b[0m \u001b[0mtag_plot_df\u001b[0m\u001b[1;33m)\u001b[0m\u001b[1;33m\u001b[0m\u001b[1;33m\u001b[0m\u001b[0m\n",
      "\u001b[1;31mAttributeError\u001b[0m: module 'desc_vis' has no attribute 'prep_per_month'"
     ]
    }
   ],
   "source": [
    "# Posts each month\n",
    "\n",
    "tag_plot_df = vis.prep_per_month(tags_df)\n",
    "sns.lineplot(x = \"month_seq\", y = \"n\", color = \"red\", data = tag_plot_df)\n"
   ]
  }
 ],
 "metadata": {
  "kernelspec": {
   "display_name": "Python 3",
   "language": "python",
   "name": "python3"
  },
  "language_info": {
   "codemirror_mode": {
    "name": "ipython",
    "version": 3
   },
   "file_extension": ".py",
   "mimetype": "text/x-python",
   "name": "python",
   "nbconvert_exporter": "python",
   "pygments_lexer": "ipython3",
   "version": "3.7.4"
  }
 },
 "nbformat": 4,
 "nbformat_minor": 2
}