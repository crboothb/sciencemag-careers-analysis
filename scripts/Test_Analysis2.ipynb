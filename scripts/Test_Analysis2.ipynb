{
 "cells": [
  {
   "cell_type": "code",
   "execution_count": 1,
   "metadata": {},
   "outputs": [
    {
     "name": "stdout",
     "output_type": "stream",
     "text": "done\n"
    }
   ],
   "source": [
    "import pandas as pd\n",
    "import ast\n",
    "import numpy as np\n",
    "import seaborn as sns\n",
    "import matplotlib.pyplot as plt\n",
    "%matplotlib inline\n",
    "\n",
    "# import spacy\n",
    "# import wordcloud\n",
    "# import en_core_web_sm\n",
    "# nlp = spacy.load('en_core_web_sm')\n",
    "# from collections import Counter\n",
    "\n",
    "from pandas.plotting import register_matplotlib_converters\n",
    "register_matplotlib_converters()\n",
    "\n",
    "import os\n",
    "abspath = os.path.abspath('D:/Box Sync/editorials/scripts/')\n",
    "os.chdir(abspath)\n",
    "\n",
    "pd.set_option('display.max_rows', 500)\n",
    "pd.set_option('display.max_columns', 500)\n",
    "pd.set_option('display.max_colwidth', 100)\n",
    "pd.set_option('display.width', 150)\n",
    "\n",
    "print(\"done\")"
   ]
  },
  {
   "cell_type": "code",
   "execution_count": 2,
   "metadata": {},
   "outputs": [
    {
     "name": "stdout",
     "output_type": "stream",
     "text": "done\n"
    }
   ],
   "source": [
    "import import_func as imp\n",
    "import desc_vis as vis\n",
    "import tags_work as tgs\n",
    "# import D:/Box Sync/editorials/scripts/import_func as imp\n",
    "# import D:/Box Sync/editorials/scripts/desc_vis as vis\n",
    "\n",
    "# Data\n",
    "elist = \"D:/Box Sync/editorials/data/editorials-1.jl\"\n",
    "tags = \"D:/Box Sync/editorials/data/by_article_110219.jl\"\n",
    "\n",
    "print(\"done\")"
   ]
  },
  {
   "cell_type": "markdown",
   "metadata": {},
   "outputs": [],
   "source": [
    "Import and process the data from .jl files using import_func functions"
   ]
  },
  {
   "cell_type": "code",
   "execution_count": 3,
   "metadata": {},
   "outputs": [
    {
     "data": {
      "text/html": "<div>\n<style scoped>\n    .dataframe tbody tr th:only-of-type {\n        vertical-align: middle;\n    }\n\n    .dataframe tbody tr th {\n        vertical-align: top;\n    }\n\n    .dataframe thead th {\n        text-align: right;\n    }\n</style>\n<table border=\"1\" class=\"dataframe\">\n  <thead>\n    <tr style=\"text-align: right;\">\n      <th></th>\n      <th>headline</th>\n      <th>preview</th>\n      <th>authors</th>\n      <th>date</th>\n    </tr>\n  </thead>\n  <tbody>\n    <tr>\n      <td>6139</td>\n      <td>how to write a winning résumé</td>\n      <td>our columnist explains all you need to know about resumes and cvs</td>\n      <td>peter fiske</td>\n      <td>1996-10-18</td>\n    </tr>\n    <tr>\n      <td>6135</td>\n      <td>the commandments of cover letter creation</td>\n      <td>writing a good cover letter boils down to making a decent presentation of your experience with t...</td>\n      <td>peter fiske</td>\n      <td>1996-12-20</td>\n    </tr>\n    <tr>\n      <td>6134</td>\n      <td>his mother cried when he went into sales</td>\n      <td>how one man's career change helped him keep his self-respect, make a few bucks, and have a blast...</td>\n      <td>david g. jensen</td>\n      <td>1997-05-09</td>\n    </tr>\n    <tr>\n      <td>6133</td>\n      <td>what are headhunters and how do they work?</td>\n      <td>do you know how the headhunting process works and how it might affect you someday?</td>\n      <td>david g. jensen</td>\n      <td>1997-09-12</td>\n    </tr>\n    <tr>\n      <td>6132</td>\n      <td>dressing scientists for success: male case study</td>\n      <td>scientists may find shopping for business attire perplexing at first, but this is easily overcom...</td>\n      <td>peter fiske</td>\n      <td>1997-09-26</td>\n    </tr>\n  </tbody>\n</table>\n</div>",
      "text/plain": "                                              headline  \\\n6139                     how to write a winning résumé   \n6135         the commandments of cover letter creation   \n6134          his mother cried when he went into sales   \n6133        what are headhunters and how do they work?   \n6132  dressing scientists for success: male case study   \n\n                                                                                                  preview          authors       date  \n6139                                    our columnist explains all you need to know about resumes and cvs      peter fiske 1996-10-18  \n6135  writing a good cover letter boils down to making a decent presentation of your experience with t...      peter fiske 1996-12-20  \n6134  how one man's career change helped him keep his self-respect, make a few bucks, and have a blast...  david g. jensen 1997-05-09  \n6133                   do you know how the headhunting process works and how it might affect you someday?  david g. jensen 1997-09-12  \n6132  scientists may find shopping for business attire perplexing at first, but this is easily overcom...      peter fiske 1997-09-26  "
     },
     "execution_count": 3,
     "metadata": {},
     "output_type": "execute_result"
    }
   ],
   "source": [
    "elist = \"../data/editorials-1.jl\"\n",
    "tags = \"../data/by_article_110219.jl\"\n",
    "\n",
    "editorial = imp.import_jl(elist)\n",
    "tags = imp.import_jl(tags)\n",
    "\n",
    "out_edi = imp.process(editorial, \"editorial\")\n",
    "out_tag = imp.process(tags, \"tags\")\n",
    "\n",
    "edi_df = out_edi[0]\n",
    "edi_dict = out_edi[1]\n",
    "\n",
    "tag_df = out_tag[0]\n",
    "tag_dict = out_tag[1]\n",
    "\n",
    "edi_df.head()"
   ]
  },
  {
   "cell_type": "markdown",
   "metadata": {},
   "outputs": [],
   "source": [
    "Clean the dataframes\n",
    "* make a sequential date column for both dates and months\n",
    "* indicate whether posts are columns or not (because early posts do not have a column tag, posts by authors that appear more than [5] times will be considered columns"
   ]
  },
  {
   "cell_type": "code",
   "execution_count": 4,
   "metadata": {},
   "outputs": [],
   "source": [
    "edi_df = imp.seq_dates(edi_df, \"editorial\")\n",
    "tag_df = imp.seq_dates(tag_df, \"tags\")\n",
    "\n",
    "tags_df = imp.id_columns(tag_df)"
   ]
  },
  {
   "cell_type": "code",
   "execution_count": 5,
   "metadata": {},
   "outputs": [
    {
     "data": {
      "text/html": "<div>\n<style scoped>\n    .dataframe tbody tr th:only-of-type {\n        vertical-align: middle;\n    }\n\n    .dataframe tbody tr th {\n        vertical-align: top;\n    }\n\n    .dataframe thead th {\n        text-align: right;\n    }\n</style>\n<table border=\"1\" class=\"dataframe\">\n  <thead>\n    <tr style=\"text-align: right;\">\n      <th></th>\n      <th>headline</th>\n      <th>authors</th>\n      <th>date</th>\n      <th>time</th>\n      <th>date_seq</th>\n      <th>month_seq</th>\n      <th>year</th>\n      <th>n_posts_author</th>\n      <th>column1</th>\n      <th>column2</th>\n      <th>variable</th>\n      <th>tag</th>\n    </tr>\n  </thead>\n  <tbody>\n    <tr>\n      <td>0</td>\n      <td>how to write a winning résumé</td>\n      <td>peter fiske</td>\n      <td>1996-10-18</td>\n      <td>8:00 am</td>\n      <td>18</td>\n      <td>10</td>\n      <td>1996</td>\n      <td>59</td>\n      <td>no</td>\n      <td>yes</td>\n      <td>0</td>\n      <td>tooling up</td>\n    </tr>\n    <tr>\n      <td>1</td>\n      <td>the commandments of cover letter creation</td>\n      <td>peter fiske</td>\n      <td>1996-12-20</td>\n      <td>0:00 am</td>\n      <td>81</td>\n      <td>12</td>\n      <td>1996</td>\n      <td>59</td>\n      <td>no</td>\n      <td>yes</td>\n      <td>0</td>\n      <td>tooling up</td>\n    </tr>\n    <tr>\n      <td>2</td>\n      <td>dressing scientists for success: male case study</td>\n      <td>peter fiske</td>\n      <td>1997-09-26</td>\n      <td>8:00 am</td>\n      <td>361</td>\n      <td>21</td>\n      <td>1997</td>\n      <td>59</td>\n      <td>no</td>\n      <td>yes</td>\n      <td>0</td>\n      <td>tooling up</td>\n    </tr>\n    <tr>\n      <td>3</td>\n      <td>the tooling up book club: on the market</td>\n      <td>peter fiske</td>\n      <td>1998-01-30</td>\n      <td>0:00 am</td>\n      <td>487</td>\n      <td>25</td>\n      <td>1998</td>\n      <td>59</td>\n      <td>no</td>\n      <td>yes</td>\n      <td>0</td>\n      <td>tooling up</td>\n    </tr>\n    <tr>\n      <td>4</td>\n      <td>self-assessment exercises: a gre for your ego and superego</td>\n      <td>peter fiske</td>\n      <td>1998-02-27</td>\n      <td>0:00 am</td>\n      <td>515</td>\n      <td>26</td>\n      <td>1998</td>\n      <td>59</td>\n      <td>no</td>\n      <td>yes</td>\n      <td>0</td>\n      <td>tooling up</td>\n    </tr>\n  </tbody>\n</table>\n</div>",
      "text/plain": "                                                     headline      authors       date     time  date_seq  month_seq  year  n_posts_author column1  \\\n0                               how to write a winning résumé  peter fiske 1996-10-18  8:00 am        18         10  1996              59      no   \n1                   the commandments of cover letter creation  peter fiske 1996-12-20  0:00 am        81         12  1996              59      no   \n2            dressing scientists for success: male case study  peter fiske 1997-09-26  8:00 am       361         21  1997              59      no   \n3                     the tooling up book club: on the market  peter fiske 1998-01-30  0:00 am       487         25  1998              59      no   \n4  self-assessment exercises: a gre for your ego and superego  peter fiske 1998-02-27  0:00 am       515         26  1998              59      no   \n\n  column2 variable         tag  \n0     yes        0  tooling up  \n1     yes        0  tooling up  \n2     yes        0  tooling up  \n3     yes        0  tooling up  \n4     yes        0  tooling up  "
     },
     "execution_count": 5,
     "metadata": {},
     "output_type": "execute_result"
    }
   ],
   "source": [
    "tags_df = tgs.seperate_tags(tags_df)\n",
    "tags_df.head()"
   ]
  },
  {
   "cell_type": "markdown",
   "metadata": {},
   "outputs": [],
   "source": [
    "## Tags work ##"
   ]
  },
  {
   "cell_type": "code",
   "execution_count": 17,
   "metadata": {},
   "outputs": [],
   "source": [
    "# Now I'm going to develop the tag_incidence function here\n",
    "# because text_analysis1 has become unweildy\n",
    "inc_dict = {}\n",
    "problem_rows = [] #[6175]\n",
    "\n",
    "# structure of inc_dict\n",
    "# {tag: \n",
    "#     {\"overall\":\n",
    "#         \"total\": int,\n",
    "#         \"span\": [[date_seq,month_seq] [date_seq, month_seq],...]\n",
    "#     }\n",
    "#     {\"author1\": int, \"author2\": int, ... }\n",
    "# }\n",
    "\n",
    "lifespan = True\n",
    "# print(len(tags_df))\n",
    "# print(tags_df.loc[6175])\n",
    "\n",
    "\n",
    "for i in range(1,6174):\n",
    "    if i in problem_rows:\n",
    "        continue\n",
    "    # print(tags_df.loc[i, \"authors\"],\" \", tags_df.loc[i, \"tag\"])\n",
    "    w_tag = tags_df.loc[i, \"tag\"]\n",
    "    w_author = tags_df.loc[i, \"authors\"]\n",
    "    if w_tag in inc_dict.keys():\n",
    "        inc_dict[w_tag][\"overall\"][\"total\"] += 1\n",
    "        if w_author in inc_dict[w_tag].keys():\n",
    "            inc_dict[w_tag][w_author] += 1\n",
    "        else:\n",
    "            inc_dict[w_tag][w_author] = 1\n",
    "    else:\n",
    "        inc_dict[w_tag] = {}\n",
    "        inc_dict[w_tag][\"overall\"] = {}\n",
    "        inc_dict[w_tag][\"overall\"][\"total\"] = 1\n",
    "        if lifespan == True:\n",
    "            inc_dict[w_tag][w_author] = 1\n",
    "            inc_dict[w_tag][\"overall\"][\"span\"] = []\n",
    "        else:\n",
    "            inc_dict[w_tag][w_author] = 1\n",
    "    if lifespan == True:\n",
    "        inc_dict[w_tag][\"overall\"][\"span\"].append([tags_df.loc[i, \"date_seq\"],tags_df.loc[i, \"month_seq\"]])\n",
    "        # print(tags_df.loc[i, \"headline\"], \"###\",tags_df.loc[i, \"tag\"], \"###\", tags_df.loc[i, \"date_seq\"] )\n",
    "        # test = \"test\"\n",
    "\n",
    "# count = 0\n",
    "# while count < 100:\n",
    "#     for key in inc_dict.keys():\n",
    "#         print(key, inc_dict[key])\n",
    "#         count +=1\n",
    "\n",
    "# determine how likely it is for the tag to be specific to a particular column\n"
   ]
  },
  {
   "cell_type": "code",
   "execution_count": 49,
   "metadata": {},
   "outputs": [
    {
     "name": "stdout",
     "output_type": "stream",
     "text": "forensics 4 3 -0.25\ncommunicating science 2 2 -0.5\neurope 3 3 -0.6666666666666667\nerc 2 2 -0.5\ngovernment shutdown 2 2 -0.5\ncomputer science 3 3 -0.6666666666666667\nolympic 2 2 -0.5\nbreakthrough of the year 2 2 -0.5\nfaculty job 3 3 -0.6666666666666667\nsport 2 2 -0.5\nesof 2014 2 2 -0.5\ncareer advice 2 2 -0.5\nentrepreneurship 3 3 -0.6666666666666667\narchaeology 3 3 -0.6666666666666667\naudacity 3 3 -0.6666666666666667\nerc grant 2 2 -0.5\nwriting 2 2 -0.5\nscientific publishing 3 3 -0.6666666666666667\nmental health 4 3 -0.25\nalternative career 2 2 -0.5\ndata sharing 3 3 -0.6666666666666667\nnetworking 2 2 -0.5\nmentoring 2 2 -0.5\ntwitter 2 2 -0.5\n2014moneyissue 3 3 -0.6666666666666667\nstem 2 2 -0.5\nunionization 3 3 -0.6666666666666667\nentrepreneur 2 2 -0.5\ncollaborators 2 2 -0.5\nebola 2 2 -0.5\nimpostor syndrome 2 2 -0.5\nace 4 3 -0.25\nphysician-scientist 2 2 -0.5\n"
    }
   ],
   "source": [
    "# identify when it's likely that the tags are associated with columns\n",
    "col_tag = {}\n",
    "\n",
    "for key in inc_dict.keys():\n",
    "    tot = inc_dict[key][\"overall\"][\"total\"]\n",
    "    prop_author = []\n",
    "    for author in inc_dict[key].keys():\n",
    "        if author == \"overall\":\n",
    "            continue\n",
    "        else:\n",
    "            prop_author.append(inc_dict[key][author]/tot)\n",
    "    col_tag[key] = [inc_dict[key][\"overall\"][\"total\"]]\n",
    "    col_tag[key].append(prop_author)\n",
    "\n",
    "# print(len(inc_dict))\n",
    "# print(len(col_tag))\n",
    "\n",
    "#for key in col_tag.keys():\n",
    "#    print(key, col_tag[key])\n",
    "# print(\"career-related policy\",len(col_tag[\"career-related policy\"][1]), col_tag[\"career-related policy\"])\n",
    "\n",
    "##  Possible strategies\n",
    "# max(prop of author) - (number of authors/incidence) = diff\n",
    "# ----> if diff is higher, it's more likely to be a column tag for a\n",
    "\n",
    "diff_set = []\n",
    "\n",
    "for key in col_tag.keys():\n",
    "    if len(col_tag[key][1]) == 1:\n",
    "        diff = max(col_tag[key][1]) - len(col_tag[key][1])/col_tag[key][0]\n",
    "    elif len(col_tag[key][1]) < 4:\n",
    "        diff = max(col_tag[key][1]) - len(col_tag[key][1])/col_tag[key][0]\n",
    "    else:\n",
    "        diff = max(col_tag[key][1])\n",
    "    col_tag[key].append(diff)\n",
    "    diff_set.append(diff)\n",
    "\n",
    "q = np.quantile(diff_set, .2)\n",
    "\n",
    "for key in col_tag.keys():\n",
    "    if col_tag[key][2] < q:\n",
    "        print(key, col_tag[key][0], len(col_tag[key][1]), col_tag[key][2])\n"
   ]
  },
  {
   "cell_type": "markdown",
   "metadata": {},
   "outputs": [],
   "source": [
    "Descriptive for tags\n",
    "* how many tags total\n",
    "* average number of tags per post\n"
   ]
  },
  {
   "cell_type": "code",
   "execution_count": 47,
   "metadata": {},
   "outputs": [
    {
     "data": {
      "text/plain": "189"
     },
     "execution_count": 47,
     "metadata": {},
     "output_type": "execute_result"
    }
   ],
   "source": [
    "# total tags\n",
    "len(inc_dict)\n"
   ]
  },
  {
   "cell_type": "markdown",
   "metadata": {},
   "outputs": [],
   "source": [
    "# Publication Rates"
   ]
  },
  {
   "cell_type": "code",
   "metadata": {},
   "outputs": [],
   "source": [
    "# Density of all posts by Sequential date\n",
    "sns.distplot(editorial[\"date_seq\"])"
   ]
  },
  {
   "cell_type": "code",
   "metadata": {},
   "outputs": [],
   "source": [
    "# Posts each month\n"
   ]
  }
 ],
 "metadata": {
  "kernelspec": {
   "display_name": "Python 3",
   "language": "python",
   "name": "python3"
  },
  "language_info": {
   "codemirror_mode": {
    "name": "ipython",
    "version": 3
   },
   "file_extension": ".py",
   "mimetype": "text/x-python",
   "name": "python",
   "nbconvert_exporter": "python",
   "pygments_lexer": "ipython3",
   "version": "3.7.4"
  }
 },
 "nbformat": 4,
 "nbformat_minor": 2
}