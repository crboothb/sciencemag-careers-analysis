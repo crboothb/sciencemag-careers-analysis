{
 "cells": [
  {
   "cell_type": "code",
   "execution_count": 13,
   "metadata": {},
   "outputs": [
    {
     "name": "stdout",
     "output_type": "stream",
     "text": "done\n"
    }
   ],
   "source": [
    "import pandas as pd\n",
    "import ast\n",
    "import numpy as np\n",
    "import seaborn as sns\n",
    "import matplotlib.pyplot as plt\n",
    "%matplotlib inline\n",
    "\n",
    "import spacy\n",
    "import wordcloud\n",
    "import en_core_web_sm\n",
    "nlp = spacy.load('en_core_web_sm')\n",
    "from collections import Counter\n",
    "\n",
    "from pandas.plotting import register_matplotlib_converters\n",
    "register_matplotlib_converters()\n",
    "\n",
    "import os\n",
    "abspath = os.path.abspath('D:/Box Sync/editorials/scripts/')\n",
    "os.chdir(abspath)\n",
    "\n",
    "pd.set_option('display.max_rows', 500)\n",
    "pd.set_option('display.max_columns', 500)\n",
    "pd.set_option('display.max_colwidth', 100)\n",
    "pd.set_option('display.width', 150)\n",
    "\n",
    "print(\"done\")"
   ]
  },
  {
   "cell_type": "code",
   "execution_count": 15,
   "metadata": {},
   "outputs": [],
   "source": [
    "import import_func as imp\n",
    "import desc_vis as vis\n",
    "# import D:/Box Sync/editorials/scripts/import_func as imp\n",
    "# import D:/Box Sync/editorials/scripts/desc_vis as vis\n",
    "\n",
    "# Data\n",
    "elist = \"D:/Box Sync/editorials/data/editorials-1.jl\"\n",
    "tags = \"D:/Box Sync/editorials/data/by_article_110219.jl\"\n"
   ]
  },
  {
   "cell_type": "markdown",
   "metadata": {},
   "source": [
    "Import and process the data from .jl files using import_func functions"
   ]
  },
  {
   "cell_type": "code",
   "execution_count": 16,
   "metadata": {},
   "outputs": [
    {
     "data": {
      "text/html": "<div>\n<style scoped>\n    .dataframe tbody tr th:only-of-type {\n        vertical-align: middle;\n    }\n\n    .dataframe tbody tr th {\n        vertical-align: top;\n    }\n\n    .dataframe thead th {\n        text-align: right;\n    }\n</style>\n<table border=\"1\" class=\"dataframe\">\n  <thead>\n    <tr style=\"text-align: right;\">\n      <th></th>\n      <th>headline</th>\n      <th>preview</th>\n      <th>authors</th>\n      <th>date</th>\n      <th>date_seq</th>\n      <th>month_seq</th>\n      <th>year</th>\n    </tr>\n  </thead>\n  <tbody>\n    <tr>\n      <td>6139</td>\n      <td>how to write a winning résumé</td>\n      <td>our columnist explains all you need to know about resumes and cvs</td>\n      <td>peter fiske</td>\n      <td>1996-10-18</td>\n      <td>18</td>\n      <td>10</td>\n      <td>1996</td>\n    </tr>\n    <tr>\n      <td>6135</td>\n      <td>the commandments of cover letter creation</td>\n      <td>writing a good cover letter boils down to making a decent presentation of your experience with t...</td>\n      <td>peter fiske</td>\n      <td>1996-12-20</td>\n      <td>81</td>\n      <td>12</td>\n      <td>1996</td>\n    </tr>\n    <tr>\n      <td>6134</td>\n      <td>his mother cried when he went into sales</td>\n      <td>how one man's career change helped him keep his self-respect, make a few bucks, and have a blast...</td>\n      <td>david g. jensen</td>\n      <td>1997-05-09</td>\n      <td>221</td>\n      <td>17</td>\n      <td>1997</td>\n    </tr>\n    <tr>\n      <td>6133</td>\n      <td>what are headhunters and how do they work?</td>\n      <td>do you know how the headhunting process works and how it might affect you someday?</td>\n      <td>david g. jensen</td>\n      <td>1997-09-12</td>\n      <td>347</td>\n      <td>21</td>\n      <td>1997</td>\n    </tr>\n    <tr>\n      <td>6132</td>\n      <td>dressing scientists for success: male case study</td>\n      <td>scientists may find shopping for business attire perplexing at first, but this is easily overcom...</td>\n      <td>peter fiske</td>\n      <td>1997-09-26</td>\n      <td>361</td>\n      <td>21</td>\n      <td>1997</td>\n    </tr>\n  </tbody>\n</table>\n</div>",
      "text/plain": "                                              headline  \\\n6139                     how to write a winning résumé   \n6135         the commandments of cover letter creation   \n6134          his mother cried when he went into sales   \n6133        what are headhunters and how do they work?   \n6132  dressing scientists for success: male case study   \n\n                                                                                                  preview          authors       date  date_seq  \\\n6139                                    our columnist explains all you need to know about resumes and cvs      peter fiske 1996-10-18        18   \n6135  writing a good cover letter boils down to making a decent presentation of your experience with t...      peter fiske 1996-12-20        81   \n6134  how one man's career change helped him keep his self-respect, make a few bucks, and have a blast...  david g. jensen 1997-05-09       221   \n6133                   do you know how the headhunting process works and how it might affect you someday?  david g. jensen 1997-09-12       347   \n6132  scientists may find shopping for business attire perplexing at first, but this is easily overcom...      peter fiske 1997-09-26       361   \n\n      month_seq  year  \n6139         10  1996  \n6135         12  1996  \n6134         17  1997  \n6133         21  1997  \n6132         21  1997  "
     },
     "execution_count": 16,
     "metadata": {},
     "output_type": "execute_result"
    }
   ],
   "source": [
    "elist = \"../data/editorials-1.jl\"\n",
    "tags = \"../data/by_article_110219.jl\"\n",
    "\n",
    "editorial = imp.import_jl(elist)\n",
    "tags = imp.import_jl(tags)\n",
    "\n",
    "out_edi = imp.process(editorial, \"editorial\")\n",
    "out_tag = imp.process(tags, \"tags\")\n",
    "\n",
    "edi_df = out_edi[0]\n",
    "edi_dict = out_edi[1]\n",
    "\n",
    "tag_df = out_tag[0]\n",
    "tag_dict = out_tag[1]\n",
    "\n",
    "edi_df.head()"
   ]
  },
  {
   "cell_type": "markdown",
   "metadata": {},
   "source": [
    "Clean the dataframes\n",
    "* make a sequential date column for both dates and months\n",
    "* indicate whether posts are columns or not (because early posts do not have a column tag, posts by authors that appear more than [5] times will be considered columns"
   ]
  },
  {
   "cell_type": "code",
   "execution_count": 17,
   "metadata": {},
   "outputs": [],
   "source": [
    "edi_df = imp.seq_dates(edi_df, \"editorial\")\n",
    "tag_df = imp.seq_dates(tag_df, \"tags\")"
   ]
  },
  {
   "cell_type": "markdown",
   "execution_count": 18,
   "metadata": {},
   "outputs": [],
   "source": [
    "# Publication Rates"
   ]
  },
  {
   "cell_type": "code",
   "execution_count": 5,
   "metadata": {},
   "outputs": [
    {
     "data": {
      "text/plain": [
       "<matplotlib.axes._subplots.AxesSubplot at 0x1983c6a9668>"
      ]
     },
     "execution_count": 5,
     "metadata": {},
     "output_type": "execute_result"
    },
    {
     "data": {
      "image/png": "[encoded data removed]",
      "text/plain": [
       "<Figure size 432x288 with 1 Axes>"
      ]
     },
     "metadata": {
      "needs_background": "light"
     },
     "output_type": "display_data"
    }
   ],
   "source": [
    "# Density of all posts by Sequential date\n",
    "sns.distplot(editorial[\"date_seq\"])"
   ]
  },
  {
   "cell_type": "code",
   "execution_count": null,
   "metadata": {},
   "outputs": [],
   "source": [
    "# Posts each month\n"
   ]
  }
 ],
 "metadata": {
  "kernelspec": {
   "display_name": "Python 3",
   "language": "python",
   "name": "python3"
  },
  "language_info": {
   "codemirror_mode": {
    "name": "ipython",
    "version": 3
   },
   "file_extension": ".py",
   "mimetype": "text/x-python",
   "name": "python",
   "nbconvert_exporter": "python",
   "pygments_lexer": "ipython3",
   "version": "3.7.4"
  }
 },
 "nbformat": 4,
 "nbformat_minor": 2
}