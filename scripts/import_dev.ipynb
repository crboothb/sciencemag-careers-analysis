{
 "cells": [
  {
   "cell_type": "code",
   "execution_count": 1,
   "metadata": {},
   "outputs": [
    {
     "name": "stdout",
     "output_type": "stream",
     "text": [
      "done\n"
     ]
    }
   ],
   "source": [
    "import pandas as pd\n",
    "import ast\n",
    "print(\"done\")"
   ]
  },
  {
   "cell_type": "code",
   "execution_count": 19,
   "metadata": {},
   "outputs": [],
   "source": [
    "elist = \"../data/editorials-1.jl\"\n",
    "tags = \"../data/by_article_110219.jl\"\n",
    "\n",
    "def import_jl(filename):\n",
    "    filename = filename\n",
    "    full = open(filename, \"r\")\n",
    "    list = []\n",
    "    for x in full:\n",
    "        list.append(x)\n",
    "    return list\n",
    "\n",
    "editorial_raw = import_jl(elist)\n",
    "tags_raw = import_jl(tags)"
   ]
  },
  {
   "cell_type": "code",
   "execution_count": 20,
   "metadata": {},
   "outputs": [
    {
     "name": "stdout",
     "output_type": "stream",
     "text": [
      "{\"text\": \"\\nHefty university fees are sending some grad students to food banks\", \"preview\": \"\\n  \\nAs costs rise, students and faculty members are pushing back\\r\\n  \\n\", \"byline\": \"<p class=\\\"byline\\\">\\n  By <a href=\\\"/author/katie-langin\\\">Katie Langin</a><time>Aug. 12, 2019</time></p>\"}\n",
      "\n",
      "{\"headline\": \"A warning from the academic underground of adjuncts and contingent faculty\", \"tags\": [\"Read more Taken for Granted\", \"Taken for Granted\", \"Column\", \"Non-disciplinary\"], \"byline\": \"<p class=\\\"byline byline--article\\\">\\n  By <a href=\\\"/author/beryl-lieff-benderly\\\">Beryl Lieff Benderly</a><time>Jun. 10, 2019 , 2:30 PM</time></p>\"}\n",
      "\n"
     ]
    }
   ],
   "source": [
    "print(editorial_raw[5])\n",
    "print(tags_raw[5])"
   ]
  },
  {
   "cell_type": "markdown",
   "metadata": {},
   "source": [
    "Next 2 blocks for initially processing jl input files. the blocks are for editorials and tags respectively \n",
    "in the final version of this, I want to have them both in the same function\n",
    "an argument will indicate which file is being processeed. \n",
    "I want sidebar to be passed to the function, not inside it--as different scrapes could have different sidebars. However, to do this, I need to know how to make that argument optional, since sidebar will not be necessary for the tags file"
   ]
  },
  {
   "cell_type": "code",
   "execution_count": 9,
   "metadata": {},
   "outputs": [
    {
     "data": {
      "text/html": [
       "<div>\n",
       "<style scoped>\n",
       "    .dataframe tbody tr th:only-of-type {\n",
       "        vertical-align: middle;\n",
       "    }\n",
       "\n",
       "    .dataframe tbody tr th {\n",
       "        vertical-align: top;\n",
       "    }\n",
       "\n",
       "    .dataframe thead th {\n",
       "        text-align: right;\n",
       "    }\n",
       "</style>\n",
       "<table border=\"1\" class=\"dataframe\">\n",
       "  <thead>\n",
       "    <tr style=\"text-align: right;\">\n",
       "      <th></th>\n",
       "      <th>headline</th>\n",
       "      <th>preview</th>\n",
       "      <th>authors</th>\n",
       "      <th>date</th>\n",
       "    </tr>\n",
       "  </thead>\n",
       "  <tbody>\n",
       "    <tr>\n",
       "      <td>6139</td>\n",
       "      <td>How to Write a Winning Résumé</td>\n",
       "      <td>Our columnist explains all you need to know ab...</td>\n",
       "      <td>Peter Fiske</td>\n",
       "      <td>1996-10-18</td>\n",
       "    </tr>\n",
       "    <tr>\n",
       "      <td>6135</td>\n",
       "      <td>The Commandments of Cover Letter Creation</td>\n",
       "      <td>Writing a good cover letter boils down to maki...</td>\n",
       "      <td>Peter Fiske</td>\n",
       "      <td>1996-12-20</td>\n",
       "    </tr>\n",
       "    <tr>\n",
       "      <td>6134</td>\n",
       "      <td>His Mother Cried When He Went Into Sales</td>\n",
       "      <td>How one man's career change helped him keep hi...</td>\n",
       "      <td>David G. Jensen</td>\n",
       "      <td>1997-05-09</td>\n",
       "    </tr>\n",
       "    <tr>\n",
       "      <td>6133</td>\n",
       "      <td>What Are Headhunters and How Do They Work?</td>\n",
       "      <td>Do you know how the headhunting process works ...</td>\n",
       "      <td>David G. Jensen</td>\n",
       "      <td>1997-09-12</td>\n",
       "    </tr>\n",
       "    <tr>\n",
       "      <td>6132</td>\n",
       "      <td>Dressing Scientists for Success: Male Case Study</td>\n",
       "      <td>Scientists may find shopping for business atti...</td>\n",
       "      <td>Peter Fiske</td>\n",
       "      <td>1997-09-26</td>\n",
       "    </tr>\n",
       "  </tbody>\n",
       "</table>\n",
       "</div>"
      ],
      "text/plain": [
       "                                              headline  \\\n",
       "6139                     How to Write a Winning Résumé   \n",
       "6135         The Commandments of Cover Letter Creation   \n",
       "6134          His Mother Cried When He Went Into Sales   \n",
       "6133        What Are Headhunters and How Do They Work?   \n",
       "6132  Dressing Scientists for Success: Male Case Study   \n",
       "\n",
       "                                                preview          authors  \\\n",
       "6139  Our columnist explains all you need to know ab...      Peter Fiske   \n",
       "6135  Writing a good cover letter boils down to maki...      Peter Fiske   \n",
       "6134  How one man's career change helped him keep hi...  David G. Jensen   \n",
       "6133  Do you know how the headhunting process works ...  David G. Jensen   \n",
       "6132  Scientists may find shopping for business atti...      Peter Fiske   \n",
       "\n",
       "           date  \n",
       "6139 1996-10-18  \n",
       "6135 1996-12-20  \n",
       "6134 1997-05-09  \n",
       "6133 1997-09-12  \n",
       "6132 1997-09-26  "
      ]
     },
     "execution_count": 9,
     "metadata": {},
     "output_type": "execute_result"
    }
   ],
   "source": [
    "def editorial_process(editorial_list):\n",
    "    editorial_dict = {\"headline\":[], \"preview\":[],\"authors\":[],\"date\":[] }\n",
    "\n",
    "    sidebar = [\"How to keep a lab notebook\",\n",
    "               \"Grad student unions dealt blow as proposed new rule says students aren’t ‘employees’\",\n",
    "               \"What do we know about Ph.D. scientists’ career paths?\",\n",
    "               \"Three lessons from industry that I’m taking back to academia\"\n",
    "              ]\n",
    "\n",
    "    #print(editorial_list[1])\n",
    "\n",
    "    for line in editorial_list:\n",
    "        if \"null\" in line:\n",
    "            line = line.replace(\"null\", \"\\'null\\'\")\n",
    "        line = ast.literal_eval(line)\n",
    "        if line[\"text\"].replace(\"\\n\",\"\")  in sidebar:\n",
    "            if line[\"preview\"] == \"null\":\n",
    "                continue\n",
    "\n",
    "        editorial_dict[\"headline\"].append(line[\"text\"].replace(\"\\n\",\"\"))\n",
    "        editorial_dict[\"preview\"].append(line[\"preview\"].replace(\"\\n\",\"\").replace(\"\\r\",\"\").replace(\"  \",\"\"))\n",
    "        num_authors = (len(line[\"byline\"].replace(\"<\",\">\").split(\">\"))-5)//4\n",
    "        au = line[\"byline\"].replace(\"<\",\">\").split(\">\")[4]\n",
    "        for i in range(2,num_authors):\n",
    "            au += \", \" + line[\"byline\"].replace(\"<\",\">\").split(\">\")[i*4]\n",
    "        editorial_dict[\"authors\"].append(au)\n",
    "        editorial_dict[\"date\"].append(line[\"byline\"].replace(\"<\",\">\").split(\">\")[-5].replace(\". \",\"-\").replace(\", \",\"-\").replace(\" \",\"\").replace(\",\",\"\"))\n",
    "\n",
    "\n",
    "    editorial_df = pd.DataFrame(editorial_dict)\n",
    "    editorial_df[\"date\"] = pd.to_datetime(editorial_df.date, format='%b-%d-%Y')\n",
    "    editorial_df.sort_values(by=[\"date\"], inplace=True)\n",
    "    \n",
    "    return [editorial_df, editorial_dict]\n",
    "\n",
    "editorial = editorial_process(editorial_raw)\n",
    "editorial_dict_backup = editorial[1]\n",
    "editorial = editorial[0]\n",
    "editorial.head()\n",
    "#editorial_dict_backup"
   ]
  },
  {
   "cell_type": "code",
   "execution_count": 7,
   "metadata": {},
   "outputs": [
    {
     "name": "stdout",
     "output_type": "stream",
     "text": [
      "{\"headline\": \"A warning from the academic underground of adjuncts and contingent faculty\", \"tags\": [\"Read more Taken for Granted\", \"Taken for Granted\", \"Column\", \"Non-disciplinary\"], \"byline\": \"<p class=\\\"byline byline--article\\\">\\n  By <a href=\\\"/author/beryl-lieff-benderly\\\">Beryl Lieff Benderly</a><time>Jun. 10, 2019 , 2:30 PM</time></p>\"}\n",
      "\n"
     ]
    }
   ],
   "source": [
    "print(article_tags[5])"
   ]
  },
  {
   "cell_type": "code",
   "execution_count": 10,
   "metadata": {},
   "outputs": [
    {
     "data": {
      "text/html": [
       "<div>\n",
       "<style scoped>\n",
       "    .dataframe tbody tr th:only-of-type {\n",
       "        vertical-align: middle;\n",
       "    }\n",
       "\n",
       "    .dataframe tbody tr th {\n",
       "        vertical-align: top;\n",
       "    }\n",
       "\n",
       "    .dataframe thead th {\n",
       "        text-align: right;\n",
       "    }\n",
       "</style>\n",
       "<table border=\"1\" class=\"dataframe\">\n",
       "  <thead>\n",
       "    <tr style=\"text-align: right;\">\n",
       "      <th></th>\n",
       "      <th>headline</th>\n",
       "      <th>tags</th>\n",
       "      <th>authors</th>\n",
       "      <th>date</th>\n",
       "      <th>time</th>\n",
       "    </tr>\n",
       "  </thead>\n",
       "  <tbody>\n",
       "    <tr>\n",
       "      <td>5969</td>\n",
       "      <td>How to Write a Winning Résumé</td>\n",
       "      <td>[Tooling Up, Advice, Graduate, Academic, Indus...</td>\n",
       "      <td>Peter Fiske</td>\n",
       "      <td>1996-10-18</td>\n",
       "      <td>8:00 AM</td>\n",
       "    </tr>\n",
       "    <tr>\n",
       "      <td>5968</td>\n",
       "      <td>The Commandments of Cover Letter Creation</td>\n",
       "      <td>[Tooling Up, Advice, Americas]</td>\n",
       "      <td>Peter Fiske</td>\n",
       "      <td>1996-12-20</td>\n",
       "      <td>0:00 AM</td>\n",
       "    </tr>\n",
       "    <tr>\n",
       "      <td>5974</td>\n",
       "      <td>His Mother Cried When He Went Into Sales</td>\n",
       "      <td>[Tooling Up, Advice, Graduate, Postdoc, Indust...</td>\n",
       "      <td>David G. Jensen</td>\n",
       "      <td>1997-05-09</td>\n",
       "      <td>8:00 AM</td>\n",
       "    </tr>\n",
       "    <tr>\n",
       "      <td>5973</td>\n",
       "      <td>What Are Headhunters and How Do They Work?</td>\n",
       "      <td>[Tooling Up, Advice, Graduate, Midcareer, Post...</td>\n",
       "      <td>David G. Jensen</td>\n",
       "      <td>1997-09-12</td>\n",
       "      <td>8:00 AM</td>\n",
       "    </tr>\n",
       "    <tr>\n",
       "      <td>5996</td>\n",
       "      <td>Dressing Scientists for Success: Male Case Study</td>\n",
       "      <td>[Tooling Up, Advice, Graduate, Postdoc, Academ...</td>\n",
       "      <td>Peter Fiske</td>\n",
       "      <td>1997-09-26</td>\n",
       "      <td>8:00 AM</td>\n",
       "    </tr>\n",
       "  </tbody>\n",
       "</table>\n",
       "</div>"
      ],
      "text/plain": [
       "                                              headline  \\\n",
       "5969                     How to Write a Winning Résumé   \n",
       "5968         The Commandments of Cover Letter Creation   \n",
       "5974          His Mother Cried When He Went Into Sales   \n",
       "5973        What Are Headhunters and How Do They Work?   \n",
       "5996  Dressing Scientists for Success: Male Case Study   \n",
       "\n",
       "                                                   tags          authors  \\\n",
       "5969  [Tooling Up, Advice, Graduate, Academic, Indus...      Peter Fiske   \n",
       "5968                     [Tooling Up, Advice, Americas]      Peter Fiske   \n",
       "5974  [Tooling Up, Advice, Graduate, Postdoc, Indust...  David G. Jensen   \n",
       "5973  [Tooling Up, Advice, Graduate, Midcareer, Post...  David G. Jensen   \n",
       "5996  [Tooling Up, Advice, Graduate, Postdoc, Academ...      Peter Fiske   \n",
       "\n",
       "           date     time  \n",
       "5969 1996-10-18  8:00 AM  \n",
       "5968 1996-12-20  0:00 AM  \n",
       "5974 1997-05-09  8:00 AM  \n",
       "5973 1997-09-12  8:00 AM  \n",
       "5996 1997-09-26  8:00 AM  "
      ]
     },
     "execution_count": 10,
     "metadata": {},
     "output_type": "execute_result"
    }
   ],
   "source": [
    "def tags_process(article_tags):\n",
    "    tags_dict = {\"headline\":[],\"tags\":[],\"authors\":[],\"date\":[],\"time\":[] }\n",
    "\n",
    "    #print(editorial_list[1])\n",
    "\n",
    "    for line in article_tags:\n",
    "        if \"null\" in line:\n",
    "            line = line.replace(\"null\", \"\\'null\\'\")\n",
    "        line = ast.literal_eval(line)\n",
    "        head = line[\"headline\"].replace(\"\\n\",\"\").replace(\"\\\"\",\"\")\n",
    "        tags_dict[\"headline\"].append(head)\n",
    "        tags = line[\"tags\"]\n",
    "        unique_tags = []\n",
    "        for tag in tags:\n",
    "            if tag not in unique_tags:\n",
    "                unique_tags.append(tag)\n",
    "        tags = unique_tags\n",
    "        if len(tags) < 1:\n",
    "            tags_dict[\"tags\"].append(\"[]\")\n",
    "        elif len(tags[0])< 5:\n",
    "            #tags_dict[\"tags\"].append(\", \".join(tags))\n",
    "            tags_dict[\"tags\"].append(tags)\n",
    "        elif tags[0][:5] == \"Read \":\n",
    "            if tags[0][10:-1] not in tags[1]:\n",
    "                included = \"false\"\n",
    "                for tag in tags[2:]:\n",
    "                    if tags[0][10:-1] in tag:\n",
    "                        #tags_dict[\"tags\"].append(\", \".join(tags[1:]))\n",
    "                        tags_dict[\"tags\"].append(tags)\n",
    "                        included = \"true\"\n",
    "                        break\n",
    "                if included == \"false\":\n",
    "                    tags[0] = tags[0][10:]\n",
    "                    #tags_dict[\"tags\"].append(\", \".join(tags))\n",
    "                    tags_dict[\"tags\"].append(tags)\n",
    "\n",
    "            else:\n",
    "                #tags_dict[\"tags\"].append(\", \".join(tags[1:]))\n",
    "                tags_dict[\"tags\"].append(tags)\n",
    "        else:\n",
    "            #tags_dict[\"tags\"].append(\", \".join(tags))\n",
    "            tags_dict[\"tags\"].append(tags)\n",
    "\n",
    "        num_authors = (len(line[\"byline\"].replace(\"<\",\">\").split(\">\"))-5)//4\n",
    "        au = line[\"byline\"].replace(\"<\",\">\").split(\">\")[4]\n",
    "        for i in range(2,num_authors):\n",
    "            au += \", \" + line[\"byline\"].replace(\"<\",\">\").split(\">\")[i*4]\n",
    "        tags_dict[\"authors\"].append(au)\n",
    "        date_time = line[\"byline\"].replace(\"<\",\">\").split(\">\")[-5]\n",
    "        time = date_time[-7:]\n",
    "        date = date_time[:-9].replace(\". \",\"-\").replace(\", \",\"-\").replace(\" \",\"\").replace(\",\",\"\")\n",
    "        tags_dict[\"date\"].append(date)\n",
    "        tags_dict[\"time\"].append(time)\n",
    "\n",
    "\n",
    "    #print(tags_dict)\n",
    "\n",
    "    tags_df = pd.DataFrame(tags_dict)\n",
    "    tags_df.head()\n",
    "    tags_df[\"date\"] = pd.to_datetime(tags_df.date, format='%b-%d-%Y')\n",
    "    tags_df[\"date\"] = pd.to_datetime(tags_df[\"date\"])\n",
    "    tags_df.sort_values(by=[\"date\"], inplace=True)\n",
    "    return([tags_df, tags_dict])\n",
    "\n",
    "tags = tags_process(tags_raw)\n",
    "tags_dict_backup = tags[1]\n",
    "tags = tags[0]\n",
    "tags.head()"
   ]
  },
  {
   "cell_type": "code",
   "execution_count": 17,
   "metadata": {},
   "outputs": [
    {
     "name": "stdout",
     "output_type": "stream",
     "text": [
      "6312\n",
      "6136\n",
      "176\n"
     ]
    }
   ],
   "source": [
    "# I wonder why they're different numbers\n",
    "print(len(editorial))\n",
    "print(len(tags))\n",
    "print(len(editorial)-len(tags))\n",
    "\n",
    "# Dammit, I wonder why...."
   ]
  },
  {
   "cell_type": "code",
   "execution_count": null,
   "metadata": {},
   "outputs": [],
   "source": [
    "# merge dataframes by headline column\n",
    "\n"
   ]
  },
  {
   "cell_type": "markdown",
   "metadata": {},
   "source": [
    "Generate means of processing sequential dates from the date of the first publication--basically, I hate the python dates function, and I'd rather use a function to go from sequential days to year instead of trying to extract the month and year"
   ]
  },
  {
   "cell_type": "code",
   "execution_count": 16,
   "metadata": {},
   "outputs": [
    {
     "name": "stdout",
     "output_type": "stream",
     "text": [
      "[31, 61, 92, 123, 151, 182, 212, 243, 273, 304, 335, 365, 396, 426, 457, 488, 516, 547, 577, 608, 638, 669, 700, 730, 761, 791, 822, 853, 881, 912, 942, 973, 1003, 1034, 1065, 1095, 1126, 1156, 1187, 1218, 1247, 1278, 1308, 1339, 1369, 1400, 1431, 1461, 1492, 1522, 1553, 1584, 1612, 1643, 1673, 1704, 1734, 1765, 1796, 1826, 1857, 1887, 1918, 1949, 1977, 2008, 2038, 2069, 2099, 2130, 2161, 2191, 2222, 2252, 2283, 2314, 2342, 2373, 2403, 2434, 2464, 2495, 2526, 2556, 2587, 2617, 2648, 2679, 2708, 2739, 2769, 2800, 2830, 2861, 2892, 2922, 2953, 2983, 3014, 3045, 3073, 3104, 3134, 3165, 3195, 3226, 3257, 3287, 3318, 3348, 3379, 3410, 3438, 3469, 3499, 3530, 3560, 3591, 3622, 3652, 3683, 3713, 3744, 3775, 3803, 3834, 3864, 3895, 3925, 3956, 3987, 4017, 4048, 4078, 4109, 4140, 4169, 4200, 4230, 4261, 4291, 4322, 4353, 4383, 4414, 4444, 4475, 4506, 4534, 4565, 4595, 4626, 4656, 4687, 4718, 4748, 4779, 4809, 4840, 4871, 4899, 4930, 4960, 4991, 5021, 5052, 5083, 5113, 5144, 5174, 5205, 5236, 5264, 5295, 5325, 5356, 5386, 5417, 5448, 5478, 5509, 5539, 5570, 5601, 5630, 5661, 5691, 5722, 5752, 5783, 5814, 5844, 5875, 5905, 5936, 5967, 5995, 6026, 6056, 6087, 6117, 6148, 6179, 6209, 6240, 6270, 6301, 6332, 6360, 6391, 6421, 6452, 6482, 6513, 6544, 6574, 6605, 6635, 6666, 6697, 6725, 6756, 6786, 6817, 6847, 6878, 6909, 6939, 6970, 7000, 7031, 7062, 7091, 7122, 7152, 7183, 7213, 7244, 7275, 7305, 7336, 7366, 7397, 7428, 7456, 7487, 7517, 7548, 7578, 7609, 7640, 7670, 7701, 7731, 7762, 7793, 7821, 7852, 7882, 7913, 7943, 7974, 8005, 8035, 8066, 8096, 8127, 8158, 8186, 8217, 8247, 8278, 8308, 8339, 8370, 8400, 8431, 8461, 8492, 8523, 8552, 8583, 8613, 8644, 8674, 8705, 8736, 8766, 8797, 8827, 8858]\n",
      "[13, 25, 37, 49, 61, 73, 85, 97, 109, 121, 133, 145, 157, 169, 181, 193, 205, 217, 229, 241, 253, 265, 277, 289, 301]\n"
     ]
    }
   ],
   "source": [
    "# Why am I doing this? I'm trying to calculate the months from the date_seq \n",
    "# Right now, this function returns a sequence from the actual start of the publications to the most recent publications\n",
    "# I would want later versions of this to be more flexible--maybe allowing the start and end times to be set in the function?\n",
    "\n",
    "def cumulative():\n",
    "    months_r = [31, 28, 31, 30, 31, 30, 31, 31, 30, 31, 30, 31]\n",
    "    months_l = [31, 29, 31, 30, 31, 30, 31, 31, 30, 31, 30, 31]\n",
    "\n",
    "    # I need a list of cumulative days at the end of each month going forward\n",
    "    cumulative_days = [31, 61, 92]\n",
    "    cumulative_months = [13]\n",
    "\n",
    "    for year in range(1997,2021):\n",
    "        cumulative_months.append(cumulative_months[-1] + 12)\n",
    "        if year%4 == 0:\n",
    "            months = months_l\n",
    "        else:\n",
    "            months = months_r\n",
    "        for month in range(1,13):\n",
    "            #print(year, month)\n",
    "            #print(months[month-1])\n",
    "            cumulative_days.append(cumulative_days[-1]+months[month-1])\n",
    "    return(cumulative_days, cumulative_months)\n",
    "\n",
    "output = cumulative()\n",
    "\n",
    "print(cumulative()[0])\n",
    "print(output[1])"
   ]
  }
 ],
 "metadata": {
  "kernelspec": {
   "display_name": "Python 3",
   "language": "python",
   "name": "python3"
  },
  "language_info": {
   "codemirror_mode": {
    "name": "ipython",
    "version": 3
   },
   "file_extension": ".py",
   "mimetype": "text/x-python",
   "name": "python",
   "nbconvert_exporter": "python",
   "pygments_lexer": "ipython3",
   "version": "3.7.4"
  }
 },
 "nbformat": 4,
 "nbformat_minor": 2
}
