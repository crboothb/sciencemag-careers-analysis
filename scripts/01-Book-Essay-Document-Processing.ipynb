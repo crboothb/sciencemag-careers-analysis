{
 "cells": [
  {
   "cell_type": "code",
   "execution_count": 1,
   "metadata": {
    "collapsed": false
   },
   "outputs": [
    {
     "output_type": "stream",
     "name": "stdout",
     "text": "imported\n"
    }
   ],
   "source": [
    "# import os\n",
    "# from bs4 import BeautifulSoup, NavigableString, Tag \n",
    "\n",
    "from nltk.util import ngrams\n",
    "from nltk import word_tokenize\n",
    "\n",
    "# import json\n",
    "import numpy as np\n",
    "import pandas as pd\n",
    "\n",
    "%matplotlib inline\n",
    "import matplotlib as plt\n",
    "import seaborn as sns\n",
    "\n",
    "import collections\n",
    "import csv\n",
    "# from sets import Set\n",
    "\n",
    "from datetime import datetime\n",
    "from pytz import timezone\n",
    "\n",
    "print(\"imported\")"
   ]
  },
  {
   "cell_type": "code",
   "execution_count": 2,
   "metadata": {
    "collapsed": false
   },
   "outputs": [
    {
     "output_type": "stream",
     "name": "stdout",
     "text": "imported\n"
    }
   ],
   "source": [
    "# IMPORTS SPECIFIC TO TOPIC MODELING\n",
    "\n",
    "# import langid\n",
    "import nltk\n",
    "import re\n",
    "import time\n",
    "from collections import defaultdict\n",
    "from configparser import ConfigParser\n",
    "from gensim import corpora, models, similarities\n",
    "from nltk.tokenize import RegexpTokenizer\n",
    "from string import digits\n",
    "from nltk.stem import WordNetLemmatizer\n",
    "print(\"imported\")"
   ]
  },
  {
   "cell_type": "markdown",
   "metadata": {},
   "source": [
    "import editorial text"
   ]
  },
  {
   "cell_type": "code",
   "execution_count": 15,
   "metadata": {},
   "outputs": [
    {
     "output_type": "error",
     "ename": "NameError",
     "evalue": "name 'python' is not defined",
     "traceback": [
      "\u001b[1;31m---------------------------------------------------------------------------\u001b[0m",
      "\u001b[1;31mNameError\u001b[0m                                 Traceback (most recent call last)",
      "\u001b[1;32m<ipython-input-15-ddc2c7d47dd7>\u001b[0m in \u001b[0;36m<module>\u001b[1;34m\u001b[0m\n\u001b[0;32m      5\u001b[0m \u001b[1;32mimport\u001b[0m \u001b[0mclassifier_help\u001b[0m \u001b[1;32mas\u001b[0m \u001b[0mclh\u001b[0m\u001b[1;33m\u001b[0m\u001b[1;33m\u001b[0m\u001b[0m\n\u001b[0;32m      6\u001b[0m \u001b[1;33m\u001b[0m\u001b[0m\n\u001b[1;32m----> 7\u001b[1;33m \u001b[0mpython\u001b[0m\u001b[1;33m.\u001b[0m\u001b[0mdataScience\u001b[0m\u001b[1;33m.\u001b[0m\u001b[0mtextOutputLimit\u001b[0m \u001b[1;33m=\u001b[0m \u001b[1;36m0\u001b[0m\u001b[1;33m\u001b[0m\u001b[1;33m\u001b[0m\u001b[0m\n\u001b[0m",
      "\u001b[1;31mNameError\u001b[0m: name 'python' is not defined"
     ]
    }
   ],
   "source": [
    "import import_func as imp\n",
    "import tags_work as tgs\n",
    "import desc_vis as vis\n",
    "import classifier_func as cls\n",
    "import classifier_help as clh"
   ]
  },
  {
   "cell_type": "markdown",
   "metadata": {},
   "source": [
    "### Loading Documents and Splitting Into Lines"
   ]
  },
  {
   "cell_type": "code",
   "execution_count": 4,
   "metadata": {},
   "outputs": [
    {
     "output_type": "execute_result",
     "data": {
      "text/plain": "     id                                          headline  \\\n0  5839                     how to write a winning résumé   \n1  5835         the commandments of cover letter creation   \n2  5840  dressing scientists for success: male case study   \n\n                                                tags      authors       date  \\\n0  [tooling up, advice, graduate, academic, indus...  peter fiske 1996-10-18   \n1                     [tooling up, advice, americas]  peter fiske 1996-12-20   \n2  [tooling up, advice, graduate, postdoc, academ...  peter fiske 1997-09-26   \n\n      time                                               text  \\\n0  8:00 am    by \\nwelcome to \"tooling up,\" a monthly colu...   \n1  0:00 am    by \\n\\n've always hated the term \"cover lett...   \n2  8:00 am    by \\n\\ne all know that, with respect to fash...   \n\n                                                 bio  date_seq  month_seq  \\\n0  [peter fiske is a ph.d. scientist and co-found...        18         10   \n1  [peter fiske is a ph.d. scientist and co-found...        81         12   \n2  [peter fiske is a ph.d. scientist and co-found...       361         21   \n\n   year       author  n_posts_author column1 column2 advice one_time  \n0  1996  peter fiske              59      no     yes    yes       no  \n1  1996  peter fiske              59      no     yes    yes       no  \n2  1997  peter fiske              59      no     yes    yes       no  ",
      "text/html": "<div>\n<style scoped>\n    .dataframe tbody tr th:only-of-type {\n        vertical-align: middle;\n    }\n\n    .dataframe tbody tr th {\n        vertical-align: top;\n    }\n\n    .dataframe thead th {\n        text-align: right;\n    }\n</style>\n<table border=\"1\" class=\"dataframe\">\n  <thead>\n    <tr style=\"text-align: right;\">\n      <th></th>\n      <th>id</th>\n      <th>headline</th>\n      <th>tags</th>\n      <th>authors</th>\n      <th>date</th>\n      <th>time</th>\n      <th>text</th>\n      <th>bio</th>\n      <th>date_seq</th>\n      <th>month_seq</th>\n      <th>year</th>\n      <th>author</th>\n      <th>n_posts_author</th>\n      <th>column1</th>\n      <th>column2</th>\n      <th>advice</th>\n      <th>one_time</th>\n    </tr>\n  </thead>\n  <tbody>\n    <tr>\n      <td>0</td>\n      <td>5839</td>\n      <td>how to write a winning résumé</td>\n      <td>[tooling up, advice, graduate, academic, indus...</td>\n      <td>peter fiske</td>\n      <td>1996-10-18</td>\n      <td>8:00 am</td>\n      <td>by \\nwelcome to \"tooling up,\" a monthly colu...</td>\n      <td>[peter fiske is a ph.d. scientist and co-found...</td>\n      <td>18</td>\n      <td>10</td>\n      <td>1996</td>\n      <td>peter fiske</td>\n      <td>59</td>\n      <td>no</td>\n      <td>yes</td>\n      <td>yes</td>\n      <td>no</td>\n    </tr>\n    <tr>\n      <td>1</td>\n      <td>5835</td>\n      <td>the commandments of cover letter creation</td>\n      <td>[tooling up, advice, americas]</td>\n      <td>peter fiske</td>\n      <td>1996-12-20</td>\n      <td>0:00 am</td>\n      <td>by \\n\\n've always hated the term \"cover lett...</td>\n      <td>[peter fiske is a ph.d. scientist and co-found...</td>\n      <td>81</td>\n      <td>12</td>\n      <td>1996</td>\n      <td>peter fiske</td>\n      <td>59</td>\n      <td>no</td>\n      <td>yes</td>\n      <td>yes</td>\n      <td>no</td>\n    </tr>\n    <tr>\n      <td>2</td>\n      <td>5840</td>\n      <td>dressing scientists for success: male case study</td>\n      <td>[tooling up, advice, graduate, postdoc, academ...</td>\n      <td>peter fiske</td>\n      <td>1997-09-26</td>\n      <td>8:00 am</td>\n      <td>by \\n\\ne all know that, with respect to fash...</td>\n      <td>[peter fiske is a ph.d. scientist and co-found...</td>\n      <td>361</td>\n      <td>21</td>\n      <td>1997</td>\n      <td>peter fiske</td>\n      <td>59</td>\n      <td>no</td>\n      <td>yes</td>\n      <td>yes</td>\n      <td>no</td>\n    </tr>\n  </tbody>\n</table>\n</div>"
     },
     "metadata": {},
     "execution_count": 4
    }
   ],
   "source": [
    "# full_advice = \"../data/genre_advice_full_021520.jl\"\n",
    "full_filename = \"../data/by_article_fulltext_020920.jl\"\n",
    "\n",
    "# get full text dataset as a df\n",
    "# advice_df = imp.init_df(full_advice, \"full\", genre=\"advice\")\n",
    "# advice_df = advice_df[advice_df[\"year\"]<2020]\n",
    "full_df = imp.init_df(full_filename, \"full\")\n",
    "full_df = full_df[full_df[\"year\"]<2020]\n",
    "\n",
    "full_df.head(3)"
   ]
  },
  {
   "cell_type": "code",
   "execution_count": 33,
   "metadata": {
    "collapsed": false,
    "scrolled": true,
    "tags": [
     "outputPrepend",
     "outputPrepend"
    ]
   },
   "outputs": [
    {
     "output_type": "stream",
     "name": "stdout",
     "text": " 'business', 'attire', 'perplexing', 'at', 'first,', 'but', 'this', 'is', 'easily', 'overcome', 'with', 'a', 'little', 'research', 'and', 'the', 'help', 'of', 'a', 'few', 'professionals']\n['i', 'carried', 'out', 'an', 'experiment', 'with', 'the', 'help', 'of', 'the', 'next', 'wave', 'folks', 'to', 'prove', 'that', 'even', 'the', 'most', 'hapless,', 'clueless,', 'and', 'scruffy', 'young', 'scientist', 'can', 'be', 'transformed', 'into', 'the', 'perfect', 'image', 'of', 'a', 'young', 'business', 'executive']\n['although', 'we', 'may', 'disdain', 'fancy', 'clothing', 'as', 'scientists,', 'we', 'still', 'accept', 'that', 'for', 'most', 'animals,', 'appearance', 'is', 'a', 'life-or-death', 'issue']\n['animals', 'judge', 'each', \"other's\", 'health,', 'strength,', 'and', 'parental', 'fitness', 'not', 'by', 'subjecting', 'their', 'potential', 'mates', 'to', 'an', 'interview', 'or', 'a', 'series', 'of', 'calibrated', 'examinations,', 'but', 'by', 'examining', 'certain', 'external', 'qualities', 'that', 'are', 'a', 'proxy', 'for', 'fitness']\n['in', 'the', 'animal', 'world,', 'these', 'qualities', 'include', 'things', 'like', 'thick,', 'well-groomed', 'fur,', 'long', 'feathers,', 'big', 'antlers,', 'or,', 'in', 'the', 'case', 'of', 'the', 'stickleback', 'fish,', 'the', 'size', 'and', 'hue', 'of', 'the', 'red', 'spot', 'on', 'his', 'belly']\n['people', 'evaluate', 'somewhat', 'similar', 'traits', 'all', 'the', 'time']\n['even', 'the', 'most', 'thorough', 'job', 'interview', 'does', 'not', 'give', 'an', 'employer', 'enough', 'time', 'or', 'information', 'to', 'reliably', 'test', 'an', \"applicant's\", 'total', 'abilities', 'and', 'potential']\n['choosing', 'who', 'to', 'hire', 'ends', 'up', 'being', 'a', 'very', 'subjective', 'process,', 'based', 'on', 'a', 'whole', 'range', 'of', 'judgments', 'about', 'externalities', 'that', 'may', 'or', 'may', 'not', 'correlate', 'to', 'ability']\n['the', 'beauty', 'of', 'being', 'human', 'is', 'that,', 'unlike', 'much', 'of', 'the', 'rest', 'of', 'the', 'animal', 'kingdom,', 'we', 'are', 'endowed', 'with', 'opposable', 'thumbs,', 'large', 'brains,', 'and', 'the', 'ability', 'to', 'purchase', 'on', 'credit']\n['with', 'these', 'tools', 'we', 'are', 'able', 'to', 'change', 'our', 'appearance', 'to', 'suit', 'the', 'situation', 'and', 'influence', 'how', 'others', 'perceive', 'us,', 'hence', 'fashion']\n['one', 'of', 'the', 'biggest', 'fashion', 'blunders', 'is', 'not', 'making', 'full', 'use', 'of', 'the', 'clothes', 'you', 'already', 'own']\n['most', 'of', 'us', 'own', 'a', 'suit', 'or', 'two', 'that', 'we', 'stash', 'away', 'for', 'emergency', 'situations', 'such', 'as', 'weddings', 'and', 'funerals']\n['these', 'clothes', 'are', 'usually', 'in', 'good', 'condition', 'but', 'are', 'probably', 'ill-fitting']\n['ill-fitting', 'clothes', 'are', 'the', 'very', 'definition', 'of', 'fashion', 'disaster']\n['but', 'ill-fitting', 'clothes', 'can', 'be', 'altered', 'and', 'recut', 'to', 'fit', 'perfectly', 'for', 'a', 'fraction', 'of', 'the', 'cost', 'of', 'buying', 'a', 'new', 'suit']\n['tim', 'brought', 'two', 'old', 'suits', 'with', 'him']\n['neither', 'one', 'looked', 'great', 'on', 'him,', 'and', 'both', 'looked', 'a', 'bit', 'snug', 'in', 'the', 'upper', 'body']\n['it', 'turned', 'out', 'that', 'tim', 'had', 'gained', 'three', 'inches', 'in', 'his', 'upper', 'body', 'since', 'purchasing', 'these', 'suits', 'and', 'now', 'fit', 'a', 'more', 'athletic', 'cut', 'suit', 'a', 'suit', 'with', 'a', 'greater', 'taper', 'from', 'shoulders', 'to', 'waist']\n['the', 'tailor', 'was', 'able', 'to', 'let', 'out', 'the', 'jacket', 'and', 'pants', 'on', 'both', 'suits', 'for', 'a', 'fraction', 'of', 'the', 'cost', 'of', 'a', 'new', 'suit']\n['picking', 'an', 'interview', 'suit', 'can', 'be', 'the', 'first', 'step', 'in', 'building', 'a', 'wardrobe']\n['each', 'new', 'outfit', 'you', 'purchase', 'should', 'pass', 'three', 'basic', 'tests:']\n['appropriate', 'attire', 'is', 'obviously', 'dependent', 'on', 'the', 'situation']\n['for', 'a', 'formal', 'interview,', 'it', 'is', 'usually', 'best', 'to', 'go', 'with', 'an', 'outfit', 'that', 'is', 'classic,', 'looks', 'good,', 'and', 'is', 'somewhat', 'conservative']\n['in', 'nearly', 'all', 'cases', 'a', 'dark,', 'single-breasted', 'suit', 'will', 'be', 'fine']\n['in', 'some', 'job', 'settings,', 'such', 'as', 'research', 'and', 'development', 'or', 'information', 'technology,', 'the', 'daily', 'work', 'attire', 'will', 'be', 'much', 'more', 'casual', 'and', 'flexible']\n['appearance', 'is', 'obviously', 'critical']\n['as', 'i', 'mentioned', 'earlier,', 'the', 'fit', 'of', 'a', 'suit', 'can', 'make', 'or', 'break', 'the', 'look', 'even', 'more', 'than', 'the', 'color', 'does']\n[\"don't\", 'even', 'think', 'of', '\"trying', 'to', 'fit', 'into\"', 'an', 'old', 'suit', 'without', 'taking', 'it', 'to', 'a', 'tailor', 'first', 'for', 'a', 'professional', 'opinion']\n['as', 'far', 'as', 'color', 'is', 'concerned,', 'think', 'conservative']\n['darker', 'colors', 'tend', 'to', 'be', 'more', 'formal']\n['navy', 'blue', 'pin', 'stripe', 'and', 'dark', 'gray', 'suits', 'are', 'classic', 'and', 'very', 'versatile']\n['the', 'quality', 'of', 'the', 'fabric', 'is', 'also', 'an', 'important', 'consideration']\n['fine', 'wool', 'cloth', '(such', 'as', 'super', '100)', 'has', 'a', 'smooth,', 'clean', 'look', 'and', 'is', 'a', 'medium-weight', 'fabric', 'that', 'can', 'be', 'worn', 'nearly', 'year', 'round']\n['affordability', 'tends', 'to', 'be', 'a', 'primary', 'concern', 'for', 'scientists', 'and', 'engineers,', 'especially', 'those', 'new', 'in', 'the', 'job', 'market']\n['it', 'may', 'be', 'tempting', 'to', 'seek', 'out', 'a', 'bargain', 'discount', \"men's\", 'clothing', 'store,', 'but', 'you', 'tend', 'to', 'get', 'what', 'you', 'pay', 'for']\n['cheap', 'suits', 'can', 'look,', 'well,', 'cheap!', 'in', 'addition,', 'cheap', 'suits', \"don't\", 'last', 'as', 'long', 'as', 'better', 'built', 'clothing']\n['some', 'major', 'department', 'stores', 'have', 'factory', 'outlets', 'that', 'sell', 'discontinued', 'or', 'surplus', 'stock', 'at', 'a', 'discount']\n['you', 'may', 'get', 'lucky', 'and', 'find', 'a', 'good', 'suit', 'at', 'a', 'nice', 'price,', 'but', 'most', 'of', 'the', 'selection', 'tends', 'to', 'be', 'in', 'odd', 'sizes', 'small', 'or', 'very', 'large', 'and', 'the', 'time', 'and', 'expense', 'of', 'getting', 'there', 'may', 'mitigate', 'any', 'savings']\n['as', 'tim', 'discovered,', 'if', 'you', 'are', 'a', 'beginner,', 'it', 'is', 'often', 'best', 'to', 'go', 'to', 'a', 'retail', 'store', 'with', 'salespeople', 'who', 'are', 'knowledgeable,', 'have', 'good', 'taste,', 'and', 'are', 'willing', 'to', 'take', 'the', 'time', 'to', 'outfit', 'you', 'properly']\n[\"don't\", 'be', 'shy', 'about', 'asking', 'for', 'help']\n['there', 'is', 'a', 'huge', 'variety', 'of', 'makers', 'of', \"men's\", 'shoes,', 'but', 'the', 'styles', 'and', 'colors', 'tend', 'to', 'be', 'very', 'restricted']\n['black', 'tends', 'to', 'be', 'the', 'most', 'traditional', 'and', 'versatile']\n['because', 'many', 'different', 'manufactures', 'make', 'similar-looking', 'shoes,', 'fit', 'and', 'comfort', 'are', 'often', 'the', 'biggest', 'consideration']\n['tim', 'tried', 'on', 'so', 'many', 'different', 'pairs', 'that', 'even', 'imelda', 'marcos', 'might', 'have', 'blushed', 'at', 'the', 'thought']\n['(just', 'kidding,', 'tim']\n[')', 'his', 'final', 'choice', 'was', 'a', 'major', 'contrast', 'to', 'the', 'worn', 'pair', 'he', 'already', 'owned']\n['but', 'tim', 'did', 'not', 'need', 'to', 'buy', 'a', 'belt,', 'as', 'the', 'one', 'he', 'had', 'was', 'fine']\n['but', 'if', 'he', 'had,', 'i', 'would', 'have', 'suggested', 'a', 'leather', 'belt', 'in', 'the', 'same', 'color', 'as', 'his', 'shoes']\n['tim', 'did', 'not', 'want', 'braces', '(suspenders)', 'for', 'his', 'suit,', 'but', 'we', 'saw', 'several', 'sets', 'that', 'would', 'have', 'complemented', 'his', 'tie', 'and', 'suit', 'nicely']\n[\"tim's\", 'outfit', 'is', 'perfect', 'for', 'an', 'interview', 'or', 'any', 'formal', 'business', 'occasion']\n[\"he's\", 'ready', 'to', 'make', 'a', 'great', 'impression', 'in', 'the', 'working', 'world,', 'and', \"i'd\", 'bet', 'that', 'even', 'his', 'adviser', 'would', 'not', 'recognize', 'him!']\n['nice', 'clothes', 'are', 'not', 'cheap,', 'but,', 'if', 'you', 'take', 'care', 'of', 'them,', 'they', 'can', 'last', 'for', 'many', 'years']\n['dry', 'clean', 'your', 'suits', 'sparingly']\n['if', 'a', 'suit', 'is', 'a', 'bit', 'wrinkled,', 'take', 'it', 'in', 'to', 'be', 'pressed,', 'but', \"don't\", 'just', 'send', 'it', 'off', 'to', 'the', 'cleaners']\n['hang', 'your', 'suit', 'on', 'a', 'thick', 'wooden', 'hanger', 'that', 'will', 'hold', 'the', 'shape', 'of', 'the', 'shoulder']\n['and', 'absolutely', 'swear', 'to', 'buy', 'shoe', 'trees', 'with', 'every', 'pair', 'of', 'dress', 'shoes', 'you', 'buy']\n['shoe', 'trees', 'are', 'those', 'spring-loaded', 'wooden', 'forms', 'that', 'you', 'insert', 'into', 'shoes', 'after', 'wearing', 'them']\n['the', 'dry', 'wood', 'wicks', 'away', 'stinky', 'foot', 'moisture,', 'and', 'the', 'form', 'helps', 'the', 'shoes', 'hold', 'their', 'shape']\n['do', 'not', 'simply', 'pile', 'your', 'shoes', 'on', 'the', 'floor', 'of', 'your', 'closet']\n['shopping', 'for', 'business', 'clothes', 'can', 'seem', 'daunting', 'at', 'first']\n['here', 'are', 'some', 'final', 'tips', 'that', 'can', 'help', 'you', 'get', 'started', 'and', 'feel', 'more', 'comfortable']\n['as', 'always,', 'your', 'own', 'stories', 'of', 'fashion', 'success', 'or', 'failure', 'from', 'the', 'scientific', 'world', 'are', 'welcome']\n['and', 'co-author,', 'with', 'dr']\n['geoff', 'davis,', 'of', 'a', 'blog', '(at', 'phds']\n['org)', 'on', 'science', 'policy,', 'economics,', 'and', 'educational', 'initiatives', 'that', 'affect', 'science', 'employment']\n['fiske', 'lives', 'with', 'his', 'wife', 'and', 'two', 'daughters', 'in', 'oakland,', 'california,', 'and', 'is', 'a', 'frequent', 'lecturer', 'on', 'the', 'subject', 'of', 'career', 'development', 'for', 'scientists']\n['ow', 'that', 'the', 'holiday', 'season', 'is', 'over,', 'you', 'have', 'returned', 'to', 'your', 'regular', 'life,', 'in', 'the', 'lab,', 'in', 'school', 'or', 'on', 'the', 'job', 'market']\n['you', 'may', 'have', 'received', 'a', 'copy', 'of', 'a', 'new', 'career', 'advice', 'book,']\n[',', 'that', 'was', 'published', 'in', 'the', 'fall', 'of', '1997']\n['\"oh', 'criminy!\"', 'you', 'may', 'have', 'thought']\n['just', 'when', 'you', 'were', 'trying', 'to', 'escape', 'the', 'anxiety', 'of', 'the', 'job', 'search,', 'someone', 'went', 'out', 'and', 'got', 'you', 'a', '381-page', 'collection', 'of', 'horror', 'stories', 'about', 'the', 'academic', 'job', 'search']\n['but', 'before', 'you', 'shelve', 'that', 'book,', 'i', 'want', 'to', 'encourage', 'you', 'to', 'take', 'some', 'time', 'to', 'read', 'it']\n['it', 'not', 'only', 'provides', 'useful', 'lessons', 'and', 'advice', 'for', 'aspiring', 'academics,', 'but', 'it', 'may', 'turn', 'out', 'to', 'be', 'one', 'of', 'the', 'most', 'important', 'books', 'for', 'young', 'ph']\n['s', 'considering', 'careers', 'in', 'academia']\n['is', 'a', 'collection', 'of', 'essays', 'about', 'the', 'academic', 'job', 'search,', 'written', 'by', 'and', 'for', 'aspiring', 'academicians']\n['rather', 'than', 'simply', 'cataloging', 'helpful', 'tips', 'and', 'advice,', 'the', 'editors', 'wanted', 'instead', 'to', 'create', '\"an', 'emotional', 'guidebook', 'to', 'the', 'academic', 'job', 'search']\n['\"', 'by', 'doing', 'so,', 'they', 'produced', 'a', 'resource', 'that', 'is', 'part', 'career', 'guide,', 'part', 'therapy', 'session']\n['those', 'of', 'you', 'who', 'are', 'not', 'presently', 'engaged', 'in', 'a', 'job', 'search', 'may', 'not', 'appreciate', 'this', 'kind', 'of', 'dialogue', 'but', 'your', 'colleagues', 'who', 'are', 'searching', 'for', 'their', 'dream', 'job,', 'often', 'far', 'from', 'the', 'support', 'of', 'their', 'grad', 'school', 'compatriots,', 'certainly', 'will']\n['the', '29', 'individual', 'stories,', 'eight', 'introductions,', 'and', 'two', 'afterword', 'essays', 'are', 'structured', 'to', 'correspond', 'roughly', 'with', 'major', 'parts', 'of', 'the', 'academic', 'job', 'search']\n['rather', 'than', 'hold', 'specific', 'authors', 'responsible', 'for', 'particular', 'subjects,', 'boufis', 'and', 'olsen', 'have', 'encouraged', 'their', 'writers', 'to', 'tell', 'their', 'entire', 'story']\n['this', 'results', 'in', 'very', 'compelling', 'reading', 'and', 'allows', 'the', 'reader', 'to', 'compare', 'and', 'contrast', 'individual', 'personalities', 'and', 'approaches', 'as', 'well', 'as', 'job', 'search', 'strategies']\n['most', 'of', 'the', 'writers', 'have', 'ph']\n['s', 'in', 'the', 'humanities', '(only', 'four', 'have', 'ph']\n['s', 'in', 'the', 'natural', 'sciences', 'or', 'mathematics),', 'with', 'nearly', 'half', 'the', 'writers', 'in', 'the', 'field', 'of', 'english']\n['because', 'of', 'this,', 'science', 'ph']\n['s', 'may', 'think', 'that', 'this', 'book', 'is', 'not', 'applicable', 'to', 'them,', 'but', 'the', 'truth', 'is', 'quite', 'the', 'opposite,', 'because', 'the', 'academic', 'job', 'search', 'in', 'the', 'humanities', 'and', 'the', 'sciences', 'is', 'very', 'similar', '(especially', 'in', 'smaller', 'colleges', 'and', 'universities)']\n['scientists', 'would', 'be', 'wise', 'to', 'learn', 'from', 'the', 'tribulations', 'of', 'our', 'humanities', 'brethren']\n['there', 'may', 'also', 'be', 'a', 'bit', 'of', 'schaden-freude']\n['here', 'learned', 'especially', 'from', 'tales', 'of', 'the', 'infamous', 'modern', 'language', 'association', 'meetings', 'where', 'so', 'many', 'humanities', 'ph']\n['s', 'must', 'grovel', 'for', 'academic', 'jobs']\n['the', 'individual', 'stories', 'of', 'academic', 'job', 'seekers', 'are', 'sobering,', 'even', 'when', 'they', 'end', 'in', 'success']\n['for', 'example,', 'there', 'is', 'the', 'story', 'of', 'the', 'ph']\n['in', 'political', 'science', 'who', 'has', 'bounced', 'between', 'temporary', 'or', 'part-time', 'teaching', 'assignments', 'and', 'is', 'paid', 'less', 'than', 'a', 'third', 'of', 'what', 'the', 'lowest', 'tenure', 'track', 'faculty', 'member', 'earns']\n['or', 'consider', 'the', 'story', 'of', 'the', 'ph']\n['in', 'american', 'studies', 'who', 'was', 'told', 'that', 'he', 'was', '\"one', 'of', 'the', 'better', 'prospects', 'among', '920', 'applicants']\n['\"', 'these', 'are', 'the', '\"nightmare\"', 'stories', 'we', 'have', 'become', 'all', 'too', 'familiar', 'with']\n['even', 'the', 'successful', 'academics', 'sometimes', 'sound', 'like', 'they', 'have', 'fallen', 'into', 'a', 'trap']\n['an', 'assistant', 'professor', 'in', 'english', 'writes', 'that', 'she', 'keeps', 'telling', 'herself', 'that', '\"i', 'am', 'one', 'of', 'the', 'lucky', 'ones\"', 'as', 'she', 'prepares', 'to', 'teach', 'eight', 'classes', 'and', 'hundreds', 'of', 'students', 'by', 'herself', 'each', 'year']\n['as', 'if', 'the', 'job', 'search', \"isn't\", 'hard', 'enough,', 'the', 'treatment', 'that', 'these', 'individuals', 'got', 'while', 'applying', 'is', 'downright', 'appalling']\n['a', 'math', 'ph']\n['describes', 'a', 'common', 'practice', 'that', 'some', 'departments', 'use,', 'forcing', 'job', 'candidates', 'to', 'fly', 'out', 'to', 'job', 'interviews', 'at', 'their', 'own', 'expense']\n['the', 'daily', 'humiliations', 'and', 'insults', 'of', 'the', 'academic', 'job', 'search', 'process', 'are', 'present', 'in', 'nearly', \"everyone's\", 'story']\n['as', 'one', 'writer', 'concludes:', '\"any', 'profession', 'that', 'manages', 'to', 'alienate', 'many', 'of', 'its', 'junior', 'members', 'needs', 'to', 'take', 'a', 'serious', 'look', 'at', 'itself']\n['within', 'these', 'stories,', 'however,', 'lie', 'some', 'important', 'lessons', 'about', 'job', 'search', 'strategies,', 'lessons', 'that', 'regular', 'readers', 'of', 'tooling', 'up', 'will', 'recognize', 'immediately']\n['sadly,', 'some', 'of', 'the', 'lessons', 'learned', 'by', 'the', 'writers', 'in']\n['came', 'after', 'years', 'of', 'futile', 'efforts']\n['some', 'writers', 'described', 'their', 'strategy', 'of', '\"applying', 'for', 'anything\"', 'and', 'sending', 'out', 'hundreds', 'of', 'cvs', 'and', 'cover', 'letters']\n['others', 'describe', 'their', 'discomfort', 'with', '\"networking\"', 'and', '\"schmoozing\"', 'with', 'senior', 'professionals', 'in', 'their', 'field']\n['one', 'even', 'admits', 'that', 'the', 'term', 'team', 'player', '\"simply', 'sticks', 'in', 'my', 'throat']\n['\"', 'in', 'reality,', 'the', 'job', 'search', 'in', 'academia', 'involves', 'the', 'same', 'techniques', 'as', 'in', 'any', 'other', 'field,', 'including', 'networking,', 'informational', 'interviewing,', 'and', 'the', 'truth', 'behind', 'teaching', 'and', 'research', 'statements']\n['the', 'contributors', 'to']\n['have', 'learned', 'these', 'lessons', 'the', 'hard', 'way']\n['after', 'reading', 'their', 'stories,', 'i', 'hope', 'you', 'will', 'be', 'further', 'along', 'in', 'your', 'job', 'hunt', 'preparations']\n['if', 'the', 'stories', 'about', 'the', 'academic', 'job', 'search', 'are', 'downbeat', 'and', 'depressing,', 'the', 'stories', 'of', 'individual', 'transformation', 'to', 'nonacademic', 'jobs', 'or', 'to', 'other', 'creative', 'academic', 'careers', 'are', 'uplifting,', 'interesting,', 'and', 'encouraging']\n['in', 'fact,', 'the', 'entire', 'tone', 'of', 'the', 'book', 'changes', 'dramatically', 'starting', 'with', 'the', 'section', 'on', '\"different', 'path']\n['\"', 'there', 'is', 'an', 'essay', 'by', 'a', 'self-described', '\"gypsy', 'scholar\"', 'who', 'has', 'embraced', 'a', 'life', 'as', 'a', 'full-time', 'adjunct', 'professor']\n['her', 'chapter', 'contains', 'an', 'unusual', 'amount', 'of', 'good', 'advice', 'and', 'positive', 'outlook']\n['the', 'academic', 'establishment', 'gets', 'a', 'good', 'share', 'of', 'criticism', 'in', 'this', 'book,', 'deservedly', 'so,', 'i', 'think']\n['not', 'only', 'do', 'the', 'recruiting', 'and', 'hiring', 'practices', 'of', 'most', 'academic', 'departments', 'seem', 'arbitrary', 'and', 'callous,', 'but', 'the', 'entire', 'higher', 'education', 'institution', 'comes', 'across', 'in', 'this', 'book', 'as', 'being', 'near', 'moral', 'bankruptcy']\n['in', 'one', 'of', 'the', 'final', 'sections,', 'louis', 'menand,', 'a', 'professor', 'of', 'english', 'and', 'a', 'critic', 'of', 'higher', 'education,', 'observes', 'that', '\"the', 'face', 'of', 'higher', 'education', 'has', 'completely', 'changed', 'since', '1960,', 'but', 'future', 'professors', 'are', 'still', 'being', 'trained', 'as', 'though', 'it', 'has', 'not']\n['perhaps', 'the', 'saddest', 'message', 'of']\n['lies', 'in', 'the', 'fact', 'that', 'so', 'many', 'bright,', 'passionate,', 'newly', 'minted', 'ph']\n['s', 'are', 'driven', 'into', 'this', 'terribly', 'screwed-up', 'system', 'by', 'a', 'profound', 'desire', 'to', 'teach']\n['at', 'the', 'same', 'time,', 'it', 'seems', 'that', 'so', 'many', 'of', 'those', 'now', 'filling', 'the', 'ivory', 'tower', 'have', 'lost', 'that', 'spark']\n['does', 'not', 'present', 'any', 'easy', 'remedy', 'for', 'the', 'present', 'dysfunction', 'of', 'academia']\n['but', 'it', 'does', 'send', 'a', 'clear', 'message', 'that', 'our', 'current', 'system', 'of', 'higher', 'education', 'is', 'seriously', 'broken']\n['whether', 'or', 'not', 'you', 'are', 'aiming', 'for', 'an', 'academic', 'job,']\n['may', 'be', 'a', 'useful', 'and', 'meaningful', 'book', 'for', 'you', 'to', 'read']\n['it', 'does', 'more', 'than', 'simply', 'inform:', 'it', 'gives', 'voice', 'to', 'issues', 'about', 'our', 'training', 'that', 'have', 'yet', 'to', 'be', 'clearly', 'articulated']\n['i', 'welcome', 'your', 'comments', 'about', 'this', 'book']\n['and', 'co-author,', 'with', 'dr']\n['geoff', 'davis,', 'of', 'a', 'blog', '(at', 'phds']\n['org)', 'on', 'science', 'policy,', 'economics,', 'and', 'educational', 'initiatives', 'that', 'affect', 'science', 'employment']\n['fiske', 'lives', 'with', 'his', 'wife', 'and', 'two', 'daughters', 'in', 'oakland,', 'california,', 'and', 'is', 'a', 'frequent', 'lecturer', 'on', 'the', 'subject', 'of', 'career', 'development', 'for', 'scientists']\n"
    }
   ],
   "source": [
    "#LOAD DOCUMENT BY LINE INTO AN ARRAY\n",
    "\n",
    "# files = [filename.split('.')[0] for filename in os.listdir('digitalSTS/papers/txt/') if not filename.startswith('.')]\n",
    "# print files\n",
    "\n",
    "line_num = [i for i in range(len(full_df))]\n",
    "filenames = [\"advice\",\"news\",\"wl\"]\n",
    "full2df = {\"id\":[],\"line_words\":[],\"type\":[]}\n",
    "\n",
    "for num in line_num[:4]:\n",
    "\n",
    "    # outpath = 'digitalSTS/papers/lines/' + filename + '.csv'\n",
    "    # w_test = full_df.iloc[num][\"text\"]\n",
    "    # with open(outpath, 'w') as outfile:\n",
    "        \n",
    "#         for line in infile.readlines():\n",
    "#             print line\n",
    "    paragraphs = full_df.iloc[num][\"text\"]\n",
    "    # print(paragraphs)\n",
    "    if full_df.iloc[num][\"advice\"]==\"yes\":\n",
    "        ty=\"advice\"\n",
    "    elif full_df.iloc[num][\"one_time\"]==\"yes\":\n",
    "        ty=\"wl\"\n",
    "    else:\n",
    "        ty==\"news\"\n",
    "\n",
    "    for paragraph in paragraphs.split(\"\\n\"):\n",
    "        # print(\"=====\")\n",
    "        # print(paragraph)\n",
    "        if paragraph == \"\" or paragraph.strip() == \" \" or paragraph.strip() == \"by\":\n",
    "            continue\n",
    "\n",
    "        # paragraph = paragraph.decode('unicode_escape').encode('ascii','ignore')\n",
    "        lines = [line.strip().replace(\"--\",\" \") for line in paragraph.split(\".\")]#''.join(paragraph).split('.')]\n",
    "        #             print paragraph\n",
    "        \n",
    "        # writer = csv.writer(outfile)\n",
    "\n",
    "        for line in lines:\n",
    "            # print(\"#####\")\n",
    "            # print(line)\n",
    "            # it may be tempting to seek out a bargain discount men's clothing store, but you tend to get what you pay for\n",
    "            words = line.split(\" \")\n",
    "\n",
    "            if len(words) > 1:\n",
    "                print(words)\n",
    "                full2df[\"id\"].append(full_df.iloc[num][\"id\"])\n",
    "                full2df[\"line_words\"].append(words)\n",
    "                full2df[\"type\"].append(ty)\n",
    "\n",
    "                #     writer.writerow([line.encode('utf-8')])"
   ]
  },
  {
   "cell_type": "code",
   "execution_count": 277,
   "metadata": {
    "collapsed": false
   },
   "outputs": [
    {
     "name": "stdout",
     "output_type": "stream",
     "text": [
      "['02_Parmiggiani_Monteiro', '03_Allhutter', '04_Camus_Vinck', '05_Lynch', '06_Vertesi', '07_Kerisadou', '08_Couture', '09_Dunbar_Hester', '10_Hawthorne', '11_Chan', '12_Poster', '13_Ilten_McInerney', '14_Nemer', '15_Erikson', '16_Toth', '17_Cohn', '18_Seaver', '19_Stark', '20_Ribes', '21_Cardoso_Llach', '22_Venturini', '23_Salamanca', '24_Munk', '25_Calvillo', '26_Winthereik', '27_Loukissas']\n"
     ]
    }
   ],
   "source": [
    "files = [filename.split('.')[0] for filename in os.listdir('digitalSTS/papers/csvs/') if not filename.startswith('.')]\n",
    "print files"
   ]
  },
  {
   "cell_type": "markdown",
   "metadata": {},
   "source": [
    "### Creating Dictionaries and Corpuses"
   ]
  },
  {
   "cell_type": "code",
   "execution_count": 279,
   "metadata": {
    "collapsed": false
   },
   "outputs": [
    {
     "name": "stdout",
     "output_type": "stream",
     "text": [
      "Dictionary(873 unique tokens: [u'represent', u'concept', u'managed', u'forbidden', u'lack']...)\n",
      "Dictionary(821 unique tokens: [u'represent', u'concept', u'semantic', u'grassroots', u'scratch']...)\n",
      "Dictionary(948 unique tokens: [u'concept', u'semantic', u'consider', u'magnetic', u'dynamic']...)\n",
      "Dictionary(784 unique tokens: [u'limited', u'code', u'forbidden', u'lack', u'focus']...)\n",
      "Dictionary(955 unique tokens: [u'represent', u'todays', u'consider', u'focus', u'yellow']...)\n",
      "Dictionary(782 unique tokens: [u'concept', u'managed', u'focus', u'four', u'woods']...)\n",
      "Dictionary(644 unique tokens: [u'limited', u'code', u'consider', u'chain', u'focus']...)\n",
      "Dictionary(698 unique tokens: [u'limited', u'code', u'illustrates', u'hooks', u'oss']...)\n",
      "Dictionary(772 unique tokens: [u'represent', u'concept', u'consider', u'limited', u'dissolution']...)\n",
      "Dictionary(794 unique tokens: [u'limited', u'code', u'managed', u'global', u'dynamic']...)\n",
      "Dictionary(1245 unique tokens: [u'represent', u'concept', u'partial', u'consider', u'breadth']...)\n",
      "Dictionary(711 unique tokens: [u'concept', u'lack', u'focus', u'existing', u'leads']...)\n",
      "Dictionary(580 unique tokens: [u'managed', u'lack', u'desirable', u'focus', u'steve']...)\n",
      "Dictionary(496 unique tokens: [u'concept', u'realty', u'dynamic', u'focus', u'manages']...)\n",
      "Dictionary(711 unique tokens: [u'limited', u'concept', u'particular', u'resistance', u'existing']...)\n",
      "Dictionary(783 unique tokens: [u'essay', u'represent', u'code', u'partial', u'consider']...)\n",
      "Dictionary(418 unique tokens: [u'limited', u'code', u'results', u'broader', u'issues']...)\n",
      "Dictionary(681 unique tokens: [u'represent', u'concept', u'managed', u'focus', u'four']...)\n",
      "Dictionary(840 unique tokens: [u'beckers', u'concept', u'consider', u'chain', u'similarity']...)\n",
      "Dictionary(612 unique tokens: [u'represent', u'code', u'legacies', u'varying', u'dynamic']...)\n",
      "Dictionary(639 unique tokens: [u'represent', u'consider', u'limited', u'lack', u'dynamic']...)\n",
      "Dictionary(522 unique tokens: [u'neighbors', u'represent', u'concept', u'limited', u'resistance']...)\n",
      "Dictionary(762 unique tokens: [u'represent', u'code', u'consider', u'assembles', u'focus']...)\n",
      "Dictionary(349 unique tokens: [u'represent', u'focus', u'decisions', u'epistemic', u'airscapes']...)\n",
      "Dictionary(526 unique tokens: [u'concept', u'consider', u'activated', u'focus', u'alien']...)\n",
      "Dictionary(596 unique tokens: [u'essay', u'managed', u'consider', u'curatorial', u'global']...)\n"
     ]
    }
   ],
   "source": [
    "files = [filename.split('.')[0] for filename in os.listdir('digitalSTS/papers/csvs/') if not filename.startswith('.')]\n",
    "# print files\n",
    "\n",
    "for filename in files:\n",
    "\n",
    "    inpath = 'digitalSTS/papers/csvs/' + filename + '.csv'\n",
    "    \n",
    "    with open(inpath, 'r') as infile:\n",
    "        \n",
    "        reader = csv.reader(infile)\n",
    "        documents = [line[0] for line in reader]\n",
    "#         print lines\n",
    "\n",
    "        # TOKENIZING\n",
    "        tokenizer = RegexpTokenizer(r'\\w+')\n",
    "        documents = [tokenizer.tokenize(doc.lower()) for doc in documents ]\n",
    "        \n",
    "        # GATHERING CANDIDATES FOR CUSTOM LIST OF STOPWORDS FROM NGRAMS\n",
    "        # ['i','m','a','a','i','t','6',...]\n",
    "        unigrams = [ w for doc in documents for w in doc if len(w)==1]\n",
    "        # ['do','or','or','of','be',...]\n",
    "        bigrams  = [ w for doc in documents for w in doc if len(w)==2]\n",
    "\n",
    "        misc = ['get', 'know', 'would']\n",
    "        \n",
    "        # CREATES THE SET OF UNIQUE \"CUSTOM STOP LIST WITH NLTK + THE ABOVE\n",
    "        stoplist  = set(nltk.corpus.stopwords.words(\"english\") + unigrams + bigrams + misc)\n",
    "\n",
    "        # REMOVES STOP WORDS\n",
    "        documents = [[token for token in doc if token not in stoplist]\n",
    "                        for doc in documents]\n",
    "\n",
    "        # REMOVES WORDS THAT ARE NUMBERS ONLY\n",
    "        documents = [ [token for token in doc if len(token.strip(digits)) == len(token)]\n",
    "                        for doc in documents ]\n",
    "        \n",
    "        # REMOVE WORDS THAT OCCUR ONLY ONCE\n",
    "        token_frequency = defaultdict(int)\n",
    "\n",
    "        # count all tokens\n",
    "        for doc in documents:\n",
    "            for token in doc:\n",
    "                token_frequency[token] += 1\n",
    "\n",
    "        # keep words that occur more than once\n",
    "        documents = [ [token for token in doc if token_frequency[token] > 1]\n",
    "                        for doc in documents  ]\n",
    "\n",
    "        # Sort words in documents\n",
    "        for doc in documents:\n",
    "            doc.sort()\n",
    "            \n",
    "        # I HATE UNICODE!!\n",
    "        documents = [ [token.decode('ascii', 'ignore') for token in doc] for doc in documents  ]\n",
    "        \n",
    "        # Build a dictionary where for each document each word has its own id\n",
    "        dictionary = corpora.Dictionary(documents)\n",
    "        dictionary.compactify()\n",
    "        # and save the dictionary for future use\n",
    "        print dictionary\n",
    "        dictionary.save( 'digitalSTS/papers/dicts/' + filename + '.dict')\n",
    "        \n",
    "        # BUILD AND SAVE CORPUS\n",
    "        corpus = [dictionary.doc2bow(doc) for doc in documents]\n",
    "        corpora.MmCorpus.serialize('digitalSTS/papers/corpuses/' + filename + '.mm', corpus)"
   ]
  },
  {
   "cell_type": "code",
   "execution_count": 266,
   "metadata": {
    "collapsed": false
   },
   "outputs": [
    {
     "data": {
      "text/plain": [
       "[['digitized', 'coral', 'reefs'],\n",
       " ['elena', 'parmiggiani', 'and', 'eric', 'monteiro']]"
      ]
     },
     "execution_count": 266,
     "metadata": {},
     "output_type": "execute_result"
    }
   ],
   "source": [
    "# CODE HELP FROM:\n",
    "# https://github.com/alexperrier/datatalks/blob/master/twitter/twitter_preprocessing.py\n",
    "\n",
    "# SPLITS EACH POST INTO WORDS WHILE REMOVING PUNCTUATION (\\w+) AND LOWER CASES THEM A WORD SUCH AS\n",
    "# I'M WILL BECOME I, M\n",
    "tokenizer = RegexpTokenizer(r'\\w+')\n",
    "documents = [tokenizer.tokenize(doc.lower()) for doc in documents ]\n",
    "## [['what', 'do', 'they', 'look', 'for', 'for', 'approval', 'or', 'denial'],\n",
    "##  ['hi','i','m','wondering','if','someone','could','answer',...]...\n",
    "documents[:2]"
   ]
  },
  {
   "cell_type": "code",
   "execution_count": 267,
   "metadata": {
    "collapsed": false
   },
   "outputs": [
    {
     "name": "stdout",
     "output_type": "stream",
     "text": [
      "['a', 'a', 'a', 'a', 'a']\n",
      "['mr', 'in', 'is', 'in', 'on']\n"
     ]
    }
   ],
   "source": [
    "# I'M NOT SURE THESE ARE TECHNICALLY UNIGRAMS AND BIGRAMS SO MUCH AS THEY ARE SINGLE LETTER WORDS\n",
    "# AND TWO LETTER WORDS BUT WHO AM I TO JUDEGE (SHULDER SHURG)\n",
    "\n",
    "# ['i','m','a','a','i','t','6',...]\n",
    "unigrams = [ w for doc in documents for w in doc if len(w)==1]\n",
    "# ['do','or','or','of','be',...]\n",
    "bigrams  = [ w for doc in documents for w in doc if len(w)==2]\n",
    "\n",
    "misc = ['get', 'know', 'would']\n",
    "\n",
    "print unigrams[:5]\n",
    "print bigrams[:5]"
   ]
  },
  {
   "cell_type": "code",
   "execution_count": 268,
   "metadata": {
    "collapsed": false
   },
   "outputs": [
    {
     "name": "stdout",
     "output_type": "stream",
     "text": [
      "['digitized', 'coral', 'reefs']\n",
      "['elena', 'parmiggiani', 'eric', 'monteiro']\n"
     ]
    }
   ],
   "source": [
    "# CREATES THE SET OF UNIQUE \"CUSTOM STOP LIST WITH NLTK + THE ABOVE\n",
    "stoplist  = set(nltk.corpus.stopwords.words(\"english\") + unigrams + bigrams + misc)\n",
    "\n",
    "# REMOVES STOP WORDS\n",
    "documents = [[token for token in doc if token not in stoplist]\n",
    "                for doc in documents]\n",
    "\n",
    "# REMOVES WORDS THAT ARE NUMBERS ONLY\n",
    "documents = [ [token for token in doc if len(token.strip(digits)) == len(token)]\n",
    "                for doc in documents ]\n",
    "\n",
    "# # [['look', 'approval', 'denial', 'parole', 'approval'...],\n",
    "# # ['wondering', 'someone', 'could', 'answer', 'question'...]...]\n",
    "print documents[0][:5]\n",
    "print documents[1][:5]"
   ]
  },
  {
   "cell_type": "code",
   "execution_count": 269,
   "metadata": {
    "collapsed": false
   },
   "outputs": [
    {
     "name": "stdout",
     "output_type": "stream",
     "text": [
      "['coral', 'digitized', 'reefs']\n",
      "['monteiro', 'parmiggiani']\n"
     ]
    }
   ],
   "source": [
    "# REMOVE WORDS THAT OCCUR ONLY ONCE\n",
    "token_frequency = defaultdict(int)\n",
    "\n",
    "# count all tokens\n",
    "for doc in documents:\n",
    "    for token in doc:\n",
    "        token_frequency[token] += 1\n",
    "\n",
    "# keep words that occur more than once\n",
    "documents = [ [token for token in doc if token_frequency[token] > 1]\n",
    "                for doc in documents  ]\n",
    "\n",
    "# Sort words in documents\n",
    "for doc in documents:\n",
    "    doc.sort()\n",
    "    \n",
    "## [['approval', 'approval', 'approval', 'approval', 'approval'...],\n",
    "##  ['answer', 'benefit', 'benefit', 'benefit', 'confused'...]...]\n",
    "\n",
    "print documents[0][:5]\n",
    "print documents[1][:5]"
   ]
  },
  {
   "cell_type": "code",
   "execution_count": 270,
   "metadata": {
    "collapsed": false
   },
   "outputs": [
    {
     "name": "stdout",
     "output_type": "stream",
     "text": [
      "[u'coral', u'digitized', u'reefs']\n",
      "[u'monteiro', u'parmiggiani']\n"
     ]
    }
   ],
   "source": [
    "# I HATE UNICODE!!\n",
    "documents = [ [token.decode('ascii', 'ignore') for token in doc] for doc in documents  ]\n",
    "print documents[0][:5]\n",
    "print documents[1][:5]"
   ]
  },
  {
   "cell_type": "code",
   "execution_count": 271,
   "metadata": {
    "collapsed": false
   },
   "outputs": [],
   "source": [
    "# Build a dictionary where for each document each word has its own id\n",
    "dictionary = corpora.Dictionary(documents)\n",
    "dictionary.compactify()\n",
    "# and save the dictionary for future use\n",
    "dictionary.save('parmiggiani.dict')"
   ]
  },
  {
   "cell_type": "code",
   "execution_count": 272,
   "metadata": {
    "collapsed": false
   },
   "outputs": [
    {
     "name": "stdout",
     "output_type": "stream",
     "text": [
      "Dictionary(873 unique tokens: [u'represent', u'concept', u'managed', u'forbidden', u'lack']...)\n"
     ]
    }
   ],
   "source": [
    "# We now have a dictionary with 11127 unique tokens\n",
    "# Dictionary(11127 unique tokens: [u'foul', u'narcotic', u'four', u'woods', u'hanging']...)\n",
    "print dictionary"
   ]
  },
  {
   "cell_type": "code",
   "execution_count": 273,
   "metadata": {
    "collapsed": false
   },
   "outputs": [],
   "source": [
    "# Build the corpus: vectors with occurence of each word for each document\n",
    "# convert tokenized documents to vectors\n",
    "corpus = [dictionary.doc2bow(doc) for doc in documents]"
   ]
  },
  {
   "cell_type": "code",
   "execution_count": 274,
   "metadata": {
    "collapsed": false
   },
   "outputs": [],
   "source": [
    "# and save in Market Matrix format\n",
    "corpora.MmCorpus.serialize('parmiggiani.mm', corpus)\n",
    "# this corpus can be loaded with corpus = corpora.MmCorpus('prison_talk_nyc.mm')"
   ]
  },
  {
   "cell_type": "markdown",
   "metadata": {
    "collapsed": true
   },
   "source": [
    "## MISC"
   ]
  },
  {
   "cell_type": "markdown",
   "metadata": {},
   "source": [
    "### Lemmatization"
   ]
  },
  {
   "cell_type": "code",
   "execution_count": 58,
   "metadata": {
    "collapsed": false
   },
   "outputs": [],
   "source": [
    "files = [filename.split('.')[0] for filename in os.listdir('../papers/strings/') if not filename.startswith('.')]\n",
    "# files"
   ]
  },
  {
   "cell_type": "code",
   "execution_count": 84,
   "metadata": {
    "collapsed": false
   },
   "outputs": [
    {
     "name": "stdout",
     "output_type": "stream",
     "text": [
      "02_Parmiggiani_Monteiro ----> TOKENS IN: 7519 POST STOP: 3991 POST HIGHFQ: 3136 ----> PCT: 42.0\n",
      "03_Allhutter ----> TOKENS IN: 4129 POST STOP: 2403 POST HIGHFQ: 1719 ----> PCT: 42.0\n",
      "04_Camus_Vinck ----> TOKENS IN: 10563 POST STOP: 5268 POST HIGHFQ: 4356 ----> PCT: 41.0\n",
      "05_Lynch ----> TOKENS IN: 7075 POST STOP: 3435 POST HIGHFQ: 2575 ----> PCT: 36.0\n",
      "06_Vertesi ----> TOKENS IN: 9048 POST STOP: 4755 POST HIGHFQ: 3811 ----> PCT: 42.0\n",
      "07_Kerisadou ----> TOKENS IN: 6299 POST STOP: 3201 POST HIGHFQ: 2387 ----> PCT: 38.0\n",
      "08_Couture ----> TOKENS IN: 7745 POST STOP: 3897 POST HIGHFQ: 3234 ----> PCT: 42.0\n",
      "09_Dunbar_Hester ----> TOKENS IN: 4436 POST STOP: 2392 POST HIGHFQ: 1541 ----> PCT: 35.0\n",
      "10_Hawthorne ----> TOKENS IN: 5563 POST STOP: 3151 POST HIGHFQ: 2241 ----> PCT: 40.0\n",
      "11_Chan ----> TOKENS IN: 5448 POST STOP: 3207 POST HIGHFQ: 2308 ----> PCT: 42.0\n",
      "12_Poster ----> TOKENS IN: 13320 POST STOP: 7193 POST HIGHFQ: 5922 ----> PCT: 44.0\n",
      "13_Ilten_McInerney ----> TOKENS IN: 4999 POST STOP: 2837 POST HIGHFQ: 2190 ----> PCT: 44.0\n",
      "14_Nemer ----> TOKENS IN: 6280 POST STOP: 3196 POST HIGHFQ: 2305 ----> PCT: 37.0\n",
      "15_Erikson ----> TOKENS IN: 3729 POST STOP: 1950 POST HIGHFQ: 1267 ----> PCT: 34.0\n",
      "16_Toth ----> TOKENS IN: 6391 POST STOP: 3275 POST HIGHFQ: 2386 ----> PCT: 37.0\n",
      "17_Cohn ----> TOKENS IN: 9739 POST STOP: 4740 POST HIGHFQ: 3826 ----> PCT: 39.0\n",
      "18_Seaver ----> TOKENS IN: 4267 POST STOP: 2193 POST HIGHFQ: 1490 ----> PCT: 35.0\n",
      "19_Stark ----> TOKENS IN: 4127 POST STOP: 2303 POST HIGHFQ: 1636 ----> PCT: 40.0\n",
      "20_Ribes ----> TOKENS IN: 7901 POST STOP: 3992 POST HIGHFQ: 3071 ----> PCT: 39.0\n",
      "21_Cardoso_Llach ----> TOKENS IN: 5738 POST STOP: 3307 POST HIGHFQ: 2573 ----> PCT: 45.0\n",
      "22_Venturini ----> TOKENS IN: 4988 POST STOP: 2514 POST HIGHFQ: 1742 ----> PCT: 35.0\n",
      "23_Salamanca ----> TOKENS IN: 4641 POST STOP: 2613 POST HIGHFQ: 2015 ----> PCT: 43.0\n",
      "24_Munk ----> TOKENS IN: 8021 POST STOP: 3995 POST HIGHFQ: 3125 ----> PCT: 39.0\n",
      "25_Calvillo ----> TOKENS IN: 2652 POST STOP: 1290 POST HIGHFQ: 834 ----> PCT: 31.0\n",
      "26_Winthereik ----> TOKENS IN: 5091 POST STOP: 2580 POST HIGHFQ: 1839 ----> PCT: 36.0\n",
      "27_Loukissas ----> TOKENS IN: 1812 POST STOP: 973 POST HIGHFQ: 538 ----> PCT: 30.0\n"
     ]
    }
   ],
   "source": [
    "# filename = '02_Parmiggiani_Monteiro'\n",
    "# testpath = '../papers/tests/' + '02_Parmiggiani_Monteiro' + '.csv'\n",
    "\n",
    "totalfq = collections.Counter()\n",
    "\n",
    "for filename in files:\n",
    "\n",
    "    inpath = '../papers/strings/' + filename + '.csv'\n",
    "    outpath = '../papers/lemmas/' + filename + '.csv'\n",
    "    \n",
    "    with open(inpath, 'r') as infile, open(outpath, 'w') as outfile:\n",
    "\n",
    "        essay = infile.readline()\n",
    "\n",
    "        tokenizer = RegexpTokenizer(r'\\w+')\n",
    "        tokens = tokenizer.tokenize(essay.lower())\n",
    "\n",
    "        # ['i','m','a','a','i','t','6',...]\n",
    "        unichars = [word for word in tokens if len(word)==1]\n",
    "        # ['do','or','or','of','be',...]\n",
    "        bichars  =  [word for word in tokens if len(word)==2]\n",
    "\n",
    "        misc = ['get', 'know', 'would', 'and', 'yet', 'due', 'one', 'digital', 'technology', 'way', \\\n",
    "                'also', 'use', 'within', 'like', 'sts', 'may', 'however', 'even', u'technology', 'used']\n",
    "\n",
    "        stoplist  = set(nltk.corpus.stopwords.words(\"english\") + unichars + bichars + misc)\n",
    "\n",
    "        # REMOVES WORDS THAT ARE NUMBERS ONLY\n",
    "        post_stop = [token for token in tokens if len(token.strip(digits)) == len(token)]\n",
    "\n",
    "        # REMOVES STOP WORDS\n",
    "        post_stop = [token for token in tokens if token not in stoplist]\n",
    "\n",
    "        post_lemma = [lemma.lemmatize(token) for token in post_stop]\n",
    "\n",
    "        tokenfq = collections.Counter()\n",
    "        tokenfq.update(post_lemma)\n",
    "        \n",
    "        post_highfq = [token for token in post_lemma if tokenfq[token] > 1]\n",
    "\n",
    "        totalfq.update(post_highfq)\n",
    "        \n",
    "        writer = csv.writer(outfile)\n",
    "        writer.writerow([' '.join(post_highfq).encode('utf-8')])\n",
    "\n",
    "        print filename, '----> TOKENS IN:', len(tokens), 'POST STOP:', len(post_stop), 'POST HIGHFQ:', len(post_highfq), \\\n",
    "                        '----> PCT:', round(float(len(post_highfq))/float(len(tokens)), 2) * 100"
   ]
  }
 ],
 "metadata": {
  "kernelspec": {
   "display_name": "Python 3.7.4 64-bit ('base': conda)",
   "language": "python",
   "name": "python37464bitbasecondaf6638f140b364320bf3d7f1da45245d8"
  },
  "language_info": {
   "codemirror_mode": {
    "name": "ipython",
    "version": 2
   },
   "file_extension": ".py",
   "mimetype": "text/x-python",
   "name": "python",
   "nbconvert_exporter": "python",
   "pygments_lexer": "ipython2",
   "version": "3.7.4-final"
  }
 },
 "nbformat": 4,
 "nbformat_minor": 0
}