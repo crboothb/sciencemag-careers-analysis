{
 "cells": [
  {
   "cell_type": "code",
   "execution_count": 1,
   "metadata": {},
   "outputs": [
    {
     "name": "stdout",
     "output_type": "stream",
     "text": [
      "done\n"
     ]
    }
   ],
   "source": [
    "import pandas as pd\n",
    "import ast\n",
    "print(\"done\")"
   ]
  },
  {
   "cell_type": "code",
   "execution_count": 99,
   "metadata": {},
   "outputs": [],
   "source": [
    "elist = \"../data/editorials-1.jl\"\n",
    "tags = \"../data/by_article_110219.jl\"\n",
    "\n",
    "def imp_editorial(filename):\n",
    "    filename = filename\n",
    "    full = open(filename, \"r\")\n",
    "    list = []\n",
    "    for x in full:\n",
    "        list.append(x)\n",
    "    return list\n",
    "\n",
    "editorial_raw = imp_editorial(elist)\n",
    "tags_raw = imp_editorial(tags)"
   ]
  },
  {
   "cell_type": "code",
   "execution_count": 101,
   "metadata": {},
   "outputs": [
    {
     "name": "stdout",
     "output_type": "stream",
     "text": [
      "{\"text\": \"\\nHefty university fees are sending some grad students to food banks\", \"preview\": \"\\n  \\nAs costs rise, students and faculty members are pushing back\\r\\n  \\n\", \"byline\": \"<p class=\\\"byline\\\">\\n  By <a href=\\\"/author/katie-langin\\\">Katie Langin</a><time>Aug. 12, 2019</time></p>\"}\n",
      "\n",
      "{\"headline\": \"A warning from the academic underground of adjuncts and contingent faculty\", \"tags\": [\"Read more Taken for Granted\", \"Taken for Granted\", \"Column\", \"Non-disciplinary\"], \"byline\": \"<p class=\\\"byline byline--article\\\">\\n  By <a href=\\\"/author/beryl-lieff-benderly\\\">Beryl Lieff Benderly</a><time>Jun. 10, 2019 , 2:30 PM</time></p>\"}\n",
      "\n"
     ]
    }
   ],
   "source": [
    "print(editorial_raw[5])\n",
    "print(tags_raw[5])"
   ]
  },
  {
   "cell_type": "code",
   "execution_count": 108,
   "metadata": {},
   "outputs": [],
   "source": [
    "def editorial_process(editorial_list):\n",
    "    editorial_dict = {\"headline\":[], \"preview\":[],\"authors\":[],\"date\":[] }\n",
    "\n",
    "    sidebar = [\"How to keep a lab notebook\",\n",
    "               \"Grad student unions dealt blow as proposed new rule says students aren’t ‘employees’\",\n",
    "               \"What do we know about Ph.D. scientists’ career paths?\",\n",
    "               \"Three lessons from industry that I’m taking back to academia\"\n",
    "              ]\n",
    "\n",
    "    #print(editorial_list[1])\n",
    "\n",
    "    for line in editorial_list:\n",
    "        if \"null\" in line:\n",
    "            line = line.replace(\"null\", \"\\'null\\'\")\n",
    "        line = ast.literal_eval(line)\n",
    "        if line[\"text\"].replace(\"\\n\",\"\")  in sidebar:\n",
    "            if line[\"preview\"] == \"null\":\n",
    "                continue\n",
    "\n",
    "        editorial_dict[\"headline\"].append(line[\"text\"].replace(\"\\n\",\"\"))\n",
    "        editorial_dict[\"preview\"].append(line[\"preview\"].replace(\"\\n\",\"\").replace(\"\\r\",\"\").replace(\"  \",\"\"))\n",
    "        num_authors = (len(line[\"byline\"].replace(\"<\",\">\").split(\">\"))-5)//4\n",
    "        au = line[\"byline\"].replace(\"<\",\">\").split(\">\")[4]\n",
    "        for i in range(2,num_authors):\n",
    "            au += \", \" + line[\"byline\"].replace(\"<\",\">\").split(\">\")[i*4]\n",
    "        editorial_dict[\"authors\"].append(au)\n",
    "        editorial_dict[\"date\"].append(line[\"byline\"].replace(\"<\",\">\").split(\">\")[-5].replace(\". \",\"-\").replace(\", \",\"-\").replace(\" \",\"\").replace(\",\",\"\"))\n",
    "\n",
    "\n",
    "    editorial_df = pd.DataFrame(editorial_dict)\n",
    "    editorial_df[\"date\"] = pd.to_datetime(editorial_df.date, format='%b-%d-%Y')\n",
    "    editorial_df.sort_values(by=[\"date\"], inplace=True)\n",
    "    \n",
    "    return [editorial_df, editorial_dict]\n",
    "\n",
    "editorial = editorial_process(editorial_raw)\n",
    "editorial_dict_backup = editorial[1]\n",
    "editorial = editorial[0]\n",
    "#editorial.head()\n",
    "#editorial_dict_backup"
   ]
  },
  {
   "cell_type": "code",
   "execution_count": 7,
   "metadata": {},
   "outputs": [
    {
     "name": "stdout",
     "output_type": "stream",
     "text": [
      "{\"headline\": \"A warning from the academic underground of adjuncts and contingent faculty\", \"tags\": [\"Read more Taken for Granted\", \"Taken for Granted\", \"Column\", \"Non-disciplinary\"], \"byline\": \"<p class=\\\"byline byline--article\\\">\\n  By <a href=\\\"/author/beryl-lieff-benderly\\\">Beryl Lieff Benderly</a><time>Jun. 10, 2019 , 2:30 PM</time></p>\"}\n",
      "\n"
     ]
    }
   ],
   "source": [
    "print(article_tags[5])"
   ]
  },
  {
   "cell_type": "code",
   "execution_count": 109,
   "metadata": {},
   "outputs": [
    {
     "data": {
      "text/html": [
       "<div>\n",
       "<style scoped>\n",
       "    .dataframe tbody tr th:only-of-type {\n",
       "        vertical-align: middle;\n",
       "    }\n",
       "\n",
       "    .dataframe tbody tr th {\n",
       "        vertical-align: top;\n",
       "    }\n",
       "\n",
       "    .dataframe thead th {\n",
       "        text-align: right;\n",
       "    }\n",
       "</style>\n",
       "<table border=\"1\" class=\"dataframe\">\n",
       "  <thead>\n",
       "    <tr style=\"text-align: right;\">\n",
       "      <th></th>\n",
       "      <th>headline</th>\n",
       "      <th>tags</th>\n",
       "      <th>authors</th>\n",
       "      <th>date</th>\n",
       "      <th>time</th>\n",
       "    </tr>\n",
       "  </thead>\n",
       "  <tbody>\n",
       "    <tr>\n",
       "      <th>5969</th>\n",
       "      <td>How to Write a Winning Résumé</td>\n",
       "      <td>Tooling Up, Advice, Graduate, Academic, Indust...</td>\n",
       "      <td>Peter Fiske</td>\n",
       "      <td>1996-10-18</td>\n",
       "      <td>8:00 AM</td>\n",
       "    </tr>\n",
       "    <tr>\n",
       "      <th>5968</th>\n",
       "      <td>The Commandments of Cover Letter Creation</td>\n",
       "      <td>Tooling Up, Advice, Americas</td>\n",
       "      <td>Peter Fiske</td>\n",
       "      <td>1996-12-20</td>\n",
       "      <td>0:00 AM</td>\n",
       "    </tr>\n",
       "    <tr>\n",
       "      <th>5974</th>\n",
       "      <td>His Mother Cried When He Went Into Sales</td>\n",
       "      <td>Tooling Up, Advice, Graduate, Postdoc, Industr...</td>\n",
       "      <td>David G. Jensen</td>\n",
       "      <td>1997-05-09</td>\n",
       "      <td>8:00 AM</td>\n",
       "    </tr>\n",
       "    <tr>\n",
       "      <th>5973</th>\n",
       "      <td>What Are Headhunters and How Do They Work?</td>\n",
       "      <td>Tooling Up, Advice, Graduate, Midcareer, Postd...</td>\n",
       "      <td>David G. Jensen</td>\n",
       "      <td>1997-09-12</td>\n",
       "      <td>8:00 AM</td>\n",
       "    </tr>\n",
       "    <tr>\n",
       "      <th>5996</th>\n",
       "      <td>Dressing Scientists for Success: Male Case Study</td>\n",
       "      <td>Tooling Up, Advice, Graduate, Postdoc, Academi...</td>\n",
       "      <td>Peter Fiske</td>\n",
       "      <td>1997-09-26</td>\n",
       "      <td>8:00 AM</td>\n",
       "    </tr>\n",
       "  </tbody>\n",
       "</table>\n",
       "</div>"
      ],
      "text/plain": [
       "                                              headline  \\\n",
       "5969                     How to Write a Winning Résumé   \n",
       "5968         The Commandments of Cover Letter Creation   \n",
       "5974          His Mother Cried When He Went Into Sales   \n",
       "5973        What Are Headhunters and How Do They Work?   \n",
       "5996  Dressing Scientists for Success: Male Case Study   \n",
       "\n",
       "                                                   tags          authors  \\\n",
       "5969  Tooling Up, Advice, Graduate, Academic, Indust...      Peter Fiske   \n",
       "5968                       Tooling Up, Advice, Americas      Peter Fiske   \n",
       "5974  Tooling Up, Advice, Graduate, Postdoc, Industr...  David G. Jensen   \n",
       "5973  Tooling Up, Advice, Graduate, Midcareer, Postd...  David G. Jensen   \n",
       "5996  Tooling Up, Advice, Graduate, Postdoc, Academi...      Peter Fiske   \n",
       "\n",
       "           date     time  \n",
       "5969 1996-10-18  8:00 AM  \n",
       "5968 1996-12-20  0:00 AM  \n",
       "5974 1997-05-09  8:00 AM  \n",
       "5973 1997-09-12  8:00 AM  \n",
       "5996 1997-09-26  8:00 AM  "
      ]
     },
     "execution_count": 109,
     "metadata": {},
     "output_type": "execute_result"
    }
   ],
   "source": [
    "def tags_process(article_tags):\n",
    "    tags_dict = {\"headline\":[],\"tags\":[],\"authors\":[],\"date\":[],\"time\":[] }\n",
    "\n",
    "    #print(editorial_list[1])\n",
    "\n",
    "    for line in article_tags:\n",
    "        if \"null\" in line:\n",
    "            line = line.replace(\"null\", \"\\'null\\'\")\n",
    "        line = ast.literal_eval(line)\n",
    "        head = line[\"headline\"].replace(\"\\n\",\"\").replace(\"\\\"\",\"\")\n",
    "        tags_dict[\"headline\"].append(head)\n",
    "        tags = line[\"tags\"]\n",
    "        if len(tags) < 1:\n",
    "            tags_dict[\"tags\"].append(\"\")\n",
    "        elif len(tags[0])< 5:\n",
    "            tags_dict[\"tags\"].append(\", \".join(tags))\n",
    "        elif tags[0][:5] == \"Read \":\n",
    "            if tags[0][10:-1] not in tags[1]:\n",
    "                included = \"false\"\n",
    "                for tag in tags[2:]:\n",
    "                    if tags[0][10:-1] in tag:\n",
    "                        tags_dict[\"tags\"].append(\", \".join(tags[1:]))\n",
    "                        included = \"true\"\n",
    "                        break\n",
    "                if included == \"false\":\n",
    "                    tags[0] = tags[0][10:]\n",
    "                    tags_dict[\"tags\"].append(\", \".join(tags))\n",
    "\n",
    "            else:\n",
    "                tags_dict[\"tags\"].append(\", \".join(tags[1:]))\n",
    "        else:\n",
    "            tags_dict[\"tags\"].append(\", \".join(tags))\n",
    "\n",
    "        num_authors = (len(line[\"byline\"].replace(\"<\",\">\").split(\">\"))-5)//4\n",
    "        au = line[\"byline\"].replace(\"<\",\">\").split(\">\")[4]\n",
    "        for i in range(2,num_authors):\n",
    "            au += \", \" + line[\"byline\"].replace(\"<\",\">\").split(\">\")[i*4]\n",
    "        tags_dict[\"authors\"].append(au)\n",
    "        date_time = line[\"byline\"].replace(\"<\",\">\").split(\">\")[-5]\n",
    "        time = date_time[-7:]\n",
    "        date = date_time[:-9].replace(\". \",\"-\").replace(\", \",\"-\").replace(\" \",\"\").replace(\",\",\"\")\n",
    "        tags_dict[\"date\"].append(date)\n",
    "        tags_dict[\"time\"].append(time)\n",
    "\n",
    "\n",
    "    #print(tags_dict)\n",
    "\n",
    "    tags_df = pd.DataFrame(tags_dict)\n",
    "    tags_df.head()\n",
    "    tags_df[\"date\"] = pd.to_datetime(tags_df.date, format='%b-%d-%Y')\n",
    "    tags_df.sort_values(by=[\"date\"], inplace=True)\n",
    "    return([tags_df, tags_dict])\n",
    "\n",
    "tags = tags_process(tags_raw)\n",
    "tags_dict_backup = tags[1]\n",
    "tags = tags[0]\n",
    "#tags.head()"
   ]
  },
  {
   "cell_type": "code",
   "execution_count": 105,
   "metadata": {},
   "outputs": [
    {
     "name": "stdout",
     "output_type": "stream",
     "text": [
      "6312\n",
      "6136\n"
     ]
    }
   ],
   "source": [
    "# I wonder why they're different numbers\n",
    "print(len(editorial))\n",
    "print(len(tags))"
   ]
  }
 ],
 "metadata": {
  "kernelspec": {
   "display_name": "Python 3",
   "language": "python",
   "name": "python3"
  },
  "language_info": {
   "codemirror_mode": {
    "name": "ipython",
    "version": 3
   },
   "file_extension": ".py",
   "mimetype": "text/x-python",
   "name": "python",
   "nbconvert_exporter": "python",
   "pygments_lexer": "ipython3",
   "version": "3.6.8"
  }
 },
 "nbformat": 4,
 "nbformat_minor": 2
}
